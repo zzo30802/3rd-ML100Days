{
 "cells": [
  {
   "cell_type": "markdown",
   "metadata": {},
   "source": [
    "# 01:TwoSum (easy)"
   ]
  },
  {
   "cell_type": "code",
   "execution_count": 1,
   "metadata": {},
   "outputs": [],
   "source": [
    "Given nums = [2, 7, 11, 15], target = 9,\n",
    "\n",
    "Because nums[0] + nums[1] = 2 + 7 = 9,\n",
    "return [0, 1]."
   ]
  },
  {
   "cell_type": "markdown",
   "metadata": {},
   "source": [
    "## 暴力解法 2個for\n",
    "leetcode的程式在IDE必須用到List\n",
    "https://docs.python.org/3/library/typing.html"
   ]
  },
  {
   "cell_type": "code",
   "execution_count": 14,
   "metadata": {
    "scrolled": true
   },
   "outputs": [
    {
     "name": "stdout",
     "output_type": "stream",
     "text": [
      "time : 0 sec\n"
     ]
    }
   ],
   "source": [
    "from typing import List\n",
    "class Solution:\n",
    "    def twoSum(self, nums:List[int], target: int) -> List[int]:\n",
    "        length = len(nums)\n",
    "        for i in range(length):\n",
    "            for j in range(length):\n",
    "                if target == nums[i] + nums[j] and i!=j:\n",
    "                    return [i, j]\n",
    "#實作class物件\n",
    "a = Solution()\n",
    "\n",
    "import time\n",
    "start = time.time()\n",
    "a.twoSum([2, 7, 11, 15], 9)\n",
    "print(f'time : {round(time.time()-start)*1000} sec')"
   ]
  },
  {
   "cell_type": "code",
   "execution_count": 8,
   "metadata": {},
   "outputs": [
    {
     "name": "stdout",
     "output_type": "stream",
     "text": [
      "ans : [0, 1]\n"
     ]
    }
   ],
   "source": [
    "class Solution:\n",
    "    def twoSum(self, nums, target):\n",
    "        length = len(nums)\n",
    "        for i in range(length) :\n",
    "            for j in range(length):\n",
    "                if nums[i] == target - nums[j] and i != j:\n",
    "                    return [i, j]\n",
    "#實作class物件\n",
    "a = Solution()\n",
    "print(f'ans : {a.twoSum([2, 7, 11, 15], 9)}')"
   ]
  },
  {
   "cell_type": "markdown",
   "metadata": {},
   "source": [
    "## 暴力解法 1個for"
   ]
  },
  {
   "cell_type": "code",
   "execution_count": 24,
   "metadata": {},
   "outputs": [
    {
     "name": "stdout",
     "output_type": "stream",
     "text": [
      "ans : (0, 1)\n"
     ]
    }
   ],
   "source": [
    "class Solution:\n",
    "    def twoSum(self, nums, target):\n",
    "        k = 0\n",
    "        for i in nums:\n",
    "            k += 1\n",
    "            if target-i in nums[k:]:\n",
    "                return (k-1, nums[k:].index(target-i)+k)  #回傳索引值\n",
    "            \n",
    "#實作class物件\n",
    "a = Solution()\n",
    "print(f'ans : {a.twoSum([2, 7, 11, 15], 9)}')            "
   ]
  },
  {
   "cell_type": "code",
   "execution_count": 25,
   "metadata": {},
   "outputs": [
    {
     "name": "stdout",
     "output_type": "stream",
     "text": [
      "ans : (0, 1)\n"
     ]
    }
   ],
   "source": [
    "class Solution:\n",
    "    def twoSum(self, nums, target):\n",
    "        for i in nums: #將nums內的元素一一取出\n",
    "            if target-i in nums:\n",
    "                return (nums.index(i), nums.index(target-i))\n",
    "#實作class物件\n",
    "a = Solution()\n",
    "print(f'ans : {a.twoSum([2, 7, 11, 15], 9)}')    "
   ]
  },
  {
   "cell_type": "markdown",
   "metadata": {},
   "source": [
    "## 官方方法 Two-Pass Hash Table\n",
    "Two-Pass 兩遍\n",
    "Hash Table 雜湊值"
   ]
  },
  {
   "cell_type": "code",
   "execution_count": 26,
   "metadata": {},
   "outputs": [
    {
     "data": {
      "text/plain": [
       "[(0, 'Spring'), (1, 'Summer'), (2, 'Fall'), (3, 'Winter')]"
      ]
     },
     "execution_count": 26,
     "metadata": {},
     "output_type": "execute_result"
    }
   ],
   "source": [
    "# enumerate() 函數用法\n",
    "seasons = ['Spring', 'Summer', 'Fall', 'Winter']\n",
    "list(enumerate(seasons))"
   ]
  },
  {
   "cell_type": "code",
   "execution_count": 29,
   "metadata": {},
   "outputs": [
    {
     "name": "stdout",
     "output_type": "stream",
     "text": [
      "3\n",
      "0\n",
      "1\n",
      "6\n"
     ]
    }
   ],
   "source": [
    "def my_hash(x):\n",
    "    return (x % 7) ^ 2\n",
    "# ^ 二進為相異時為1\n",
    "# 1的二進制為0001 2的二進制0010  1^2=0011 輸出為3\n",
    "print(my_hash(1)) # 輸出結果：3\n",
    "print(my_hash(2)) # 輸出結果：0\n",
    "print(my_hash(3)) # 輸出結果：1\n",
    "print(my_hash(4)) # 輸出結果：6"
   ]
  },
  {
   "cell_type": "code",
   "execution_count": null,
   "metadata": {},
   "outputs": [],
   "source": [
    "class Solution:\n",
    "    def twoSum(self, nums, target):\n",
    "        hashTable = {}"
   ]
  },
  {
   "cell_type": "code",
   "execution_count": null,
   "metadata": {},
   "outputs": [],
   "source": []
  }
 ],
 "metadata": {
  "kernelspec": {
   "display_name": "Python 3",
   "language": "python",
   "name": "python3"
  },
  "language_info": {
   "codemirror_mode": {
    "name": "ipython",
    "version": 3
   },
   "file_extension": ".py",
   "mimetype": "text/x-python",
   "name": "python",
   "nbconvert_exporter": "python",
   "pygments_lexer": "ipython3",
   "version": "3.7.3"
  },
  "toc": {
   "base_numbering": 1,
   "nav_menu": {},
   "number_sections": true,
   "sideBar": true,
   "skip_h1_title": false,
   "title_cell": "Table of Contents",
   "title_sidebar": "Contents",
   "toc_cell": false,
   "toc_position": {},
   "toc_section_display": true,
   "toc_window_display": true
  }
 },
 "nbformat": 4,
 "nbformat_minor": 2
}
