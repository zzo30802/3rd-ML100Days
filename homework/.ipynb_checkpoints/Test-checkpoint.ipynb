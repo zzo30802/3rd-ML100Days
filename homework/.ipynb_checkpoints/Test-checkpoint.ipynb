{
 "cells": [
  {
   "cell_type": "markdown",
   "metadata": {},
   "source": [
    "# Q1 : 解釋一下Python的三元運算子"
   ]
  },
  {
   "cell_type": "code",
   "execution_count": 1,
   "metadata": {},
   "outputs": [
    {
     "name": "stdout",
     "output_type": "stream",
     "text": [
      "2\n"
     ]
    }
   ],
   "source": [
    "a,b = 2,3\n",
    "min = a if a<b else b\n",
    "print(min)"
   ]
  },
  {
   "cell_type": "markdown",
   "metadata": {},
   "source": [
    "# Q2 : Python中的字典是?"
   ]
  },
  {
   "cell_type": "code",
   "execution_count": 5,
   "metadata": {},
   "outputs": [
    {
     "name": "stdout",
     "output_type": "stream",
     "text": [
      "<class 'dict'>\n",
      "3\n"
     ]
    }
   ],
   "source": [
    "roots = {25:5, 16:4, 9:3, 4:2, 1:1} #{鍵 : 值}\n",
    "print(type(roots))\n",
    "print(roots[9])\n",
    "#print(roots[3]) 錯誤"
   ]
  },
  {
   "cell_type": "markdown",
   "metadata": {},
   "source": [
    "# Q3 : 請解釋使用 * args和** kwargs的含意\n",
    "[Python-可變參數和關鍵字參數(*args **kw)](https://www.itread01.com/content/1530463219.html)"
   ]
  },
  {
   "cell_type": "code",
   "execution_count": 19,
   "metadata": {},
   "outputs": [],
   "source": [
    "# *args : 代入列表(list)或元組(tuple)。可變參數就是傳入的參數個數是可變的，可以是0個，1個，2個，……很多個。\n",
    "# 作用：就是可以一次給函數傳很多的參數"
   ]
  },
  {
   "cell_type": "code",
   "execution_count": 20,
   "metadata": {},
   "outputs": [],
   "source": [
    "# **kwargs : 關鍵字參數允許你傳入0個或任意個含參數名的參數，這些關鍵字參數在函數內部自動組裝為一個dict。在調用函數時，可以只傳入必選參數。\n",
    "# 作用：擴展函數的功能\n"
   ]
  },
  {
   "cell_type": "markdown",
   "metadata": {},
   "source": [
    "# Q4 :  四個數字:1,2,3,4，能組成多少個互不相同無重複的三位數?各是多少?"
   ]
  },
  {
   "cell_type": "code",
   "execution_count": null,
   "metadata": {},
   "outputs": [],
   "source": [
    "#print(list(range(1,5)) #[1,2,3,4]\n",
    "for i in range(1,5):\n",
    "    for j in range(1,5):\n",
    "        for k in range(1,5):\n",
    "            if (i != k) and (i != j) and (j != k):\n",
    "                print(i,j,k)"
   ]
  },
  {
   "cell_type": "markdown",
   "metadata": {},
   "source": [
    "# Q5 : 一個整數，加上100等於完全平方數，再加168後也是一個完全平方數，請問該整數是多少?"
   ]
  },
  {
   "cell_type": "code",
   "execution_count": 4,
   "metadata": {},
   "outputs": [
    {
     "name": "stdout",
     "output_type": "stream",
     "text": [
      "-99.0\n",
      "21.0\n",
      "261.0\n",
      "1581.0\n"
     ]
    }
   ],
   "source": [
    "#x+100=n^2   x+100+168=n^2\n",
    "#m^2-n^2=(m+n)(m-n)=168\n",
    "# m+n=i  m-n=j\n",
    "#i,j都是偶數 m=(i+j)/2  n=(i-j)/2\n",
    "#i*j=168  j>=2 則 1 < i < 168/2+1\n",
    "for i in range(1,85):\n",
    "    if 168 % i == 0:\n",
    "        j = 168 / i;\n",
    "        if  i > j and (i + j) % 2 == 0 and (i - j) % 2 == 0 :\n",
    "            m = (i + j) / 2\n",
    "            n = (i - j) / 2\n",
    "            x = n * n - 100\n",
    "            print(x)"
   ]
  },
  {
   "cell_type": "markdown",
   "metadata": {},
   "source": [
    "# Q6 : 用*列印金字塔"
   ]
  },
  {
   "cell_type": "code",
   "execution_count": 23,
   "metadata": {},
   "outputs": [
    {
     "name": "stdout",
     "output_type": "stream",
     "text": [
      "*\n",
      "**\n",
      "***\n",
      "****\n",
      "*****\n"
     ]
    }
   ],
   "source": [
    "n = 5\n",
    "for i in range(1, n+1):\n",
    "    for j in range(i):\n",
    "        print('*',end='') # python3之後 end=''代表不換行。 python2.7 : print 'hello',\n",
    "    print()"
   ]
  },
  {
   "cell_type": "code",
   "execution_count": 31,
   "metadata": {},
   "outputs": [
    {
     "name": "stdout",
     "output_type": "stream",
     "text": [
      "   * \n",
      "  * * \n",
      " * * * \n",
      "* * * * \n"
     ]
    }
   ],
   "source": [
    "'''\n",
    "   *      3\n",
    "  * *     2\n",
    " * * *    1\n",
    "* * * *\n",
    "'''\n",
    "'''\n",
    "錯誤，range()沒有搞懂\n",
    "n = 4\n",
    "for i in range(n): #總共n層\n",
    "    for j in range(n-i-1):\n",
    "        print('',end='')\n",
    "    for k in range(i+1):\n",
    "        print('*',end='')\n",
    "    print() #換行\n",
    "'''\n",
    "for i in range(4):         # 總共有4層 [0,1,2,3]\n",
    "        for j in range(4 - i - 1): # 在第一個*號出現前，先印出空白\n",
    "                 print(\" \", end = \"\")\n",
    "        for k in range(i + 1):                # 印出該層所需要的*字數量\n",
    "                print(\"* \", end = \"\" )\n",
    "        print()                # 換行"
   ]
  },
  {
   "cell_type": "markdown",
   "metadata": {},
   "source": [
    "# Q7 : 請寫一支程式能夠輸入兩個數字，然後輸出這兩個數字的最大公因數。"
   ]
  },
  {
   "cell_type": "code",
   "execution_count": 45,
   "metadata": {},
   "outputs": [
    {
     "name": "stdout",
     "output_type": "stream",
     "text": [
      "最大公因數為1\n"
     ]
    }
   ],
   "source": [
    "#?????????????????????????????????????????????????\n",
    "n1 = 13\n",
    "n2 = 12\n",
    "#餘數等於0代表被整除。\n",
    "while(n1>0 and n2>0): #false就會跳出迴圈\n",
    "    if(n1>n2):\n",
    "        n1=n1%n2\n",
    "    else:\n",
    "        n2=n2%n1\n",
    "if(n1==0): #其中一個為0，則另一個數將會是這兩個數的最大公因數\n",
    "    print('最大公因數為'+str(n2))\n",
    "else:\n",
    "    print('最大公因數為'+str(n1))"
   ]
  },
  {
   "cell_type": "markdown",
   "metadata": {},
   "source": [
    "# Q8 : 讓使用者輸入一個正整數n，求出1! + 2! + 3! + … + n!之值並輸出。"
   ]
  },
  {
   "cell_type": "code",
   "execution_count": 54,
   "metadata": {},
   "outputs": [
    {
     "name": "stdout",
     "output_type": "stream",
     "text": [
      "輸入正整數:5\n",
      "153\n"
     ]
    }
   ],
   "source": [
    "#n=5 ;  sum = 5!+4!+3!+2!+1! = 120+24+6+2+1 = 153\n",
    "n = int(input('輸入正整數:'))\n",
    "sum = 0 # 建立一個變數\n",
    "for i in range(1,n+1): #1,2,3,... ,n-1\n",
    "    factorial = 1\n",
    "    for j in range(1,i+1):\n",
    "        factorial *= (j)\n",
    "    sum += factorial\n",
    "print(sum)"
   ]
  },
  {
   "cell_type": "markdown",
   "metadata": {},
   "source": [
    "# Q9 : 判斷是否質數?"
   ]
  },
  {
   "cell_type": "code",
   "execution_count": 79,
   "metadata": {},
   "outputs": [
    {
     "name": "stdout",
     "output_type": "stream",
     "text": [
      "請輸入一個正整數 : 13\n",
      "13 是否為質數? True\n"
     ]
    }
   ],
   "source": [
    "n = int(input('請輸入一個正整數 : '))\n",
    "def is_prime(n):\n",
    "    prime_list=[]\n",
    "    for i in range(2,n):  #2,3,4,5,n-1\n",
    "        if(n % i==0):     #餘數等於0，代表被整除。\n",
    "            return False\n",
    "        else:\n",
    "            prime_list.append(i)\n",
    "            return True\n",
    "print('%d 是否為質數? %r' %(n, is_prime(n)))\n",
    "#格式化輸出  \n",
    "# %r : 布林    %s : 字串  %d:整數  \n",
    "# %8.2f : 固定列印個字元，有少則從左邊補空白自元，小數點2位。\n",
    "# %5d : 固定列印5個字元，若少於5個數，會在數字左方填入空白字元，若大於5個數會全部列印。 "
   ]
  },
  {
   "cell_type": "markdown",
   "metadata": {},
   "source": [
    "# 10 : groupby agg 用法"
   ]
  },
  {
   "cell_type": "code",
   "execution_count": 69,
   "metadata": {},
   "outputs": [
    {
     "data": {
      "text/plain": [
       "B\n",
       "3    3\n",
       "4    1\n",
       "dtype: int64"
      ]
     },
     "execution_count": 69,
     "metadata": {},
     "output_type": "execute_result"
    }
   ],
   "source": [
    "import pandas as pd\n",
    "import numpy as np\n",
    "df = pd.DataFrame({'A': [1, 1, 2, 2],\n",
    "                   'B': [3, 3, 3, 4],\n",
    "                   'C': [2, 2, 2, 4],\n",
    "                   'D': [3, 3, 3, 4]})\n",
    "# size()計數\n",
    "df.groupby(['B']).size()"
   ]
  },
  {
   "cell_type": "code",
   "execution_count": 70,
   "metadata": {},
   "outputs": [
    {
     "data": {
      "text/html": [
       "<div>\n",
       "<style scoped>\n",
       "    .dataframe tbody tr th:only-of-type {\n",
       "        vertical-align: middle;\n",
       "    }\n",
       "\n",
       "    .dataframe tbody tr th {\n",
       "        vertical-align: top;\n",
       "    }\n",
       "\n",
       "    .dataframe thead th {\n",
       "        text-align: right;\n",
       "    }\n",
       "</style>\n",
       "<table border=\"1\" class=\"dataframe\">\n",
       "  <thead>\n",
       "    <tr style=\"text-align: right;\">\n",
       "      <th></th>\n",
       "      <th>A</th>\n",
       "      <th>B</th>\n",
       "      <th>C</th>\n",
       "      <th>D</th>\n",
       "    </tr>\n",
       "  </thead>\n",
       "  <tbody>\n",
       "    <tr>\n",
       "      <th>0</th>\n",
       "      <td>1</td>\n",
       "      <td>3</td>\n",
       "      <td>2</td>\n",
       "      <td>3</td>\n",
       "    </tr>\n",
       "    <tr>\n",
       "      <th>1</th>\n",
       "      <td>1</td>\n",
       "      <td>3</td>\n",
       "      <td>2</td>\n",
       "      <td>3</td>\n",
       "    </tr>\n",
       "    <tr>\n",
       "      <th>2</th>\n",
       "      <td>2</td>\n",
       "      <td>3</td>\n",
       "      <td>2</td>\n",
       "      <td>3</td>\n",
       "    </tr>\n",
       "    <tr>\n",
       "      <th>3</th>\n",
       "      <td>2</td>\n",
       "      <td>4</td>\n",
       "      <td>4</td>\n",
       "      <td>4</td>\n",
       "    </tr>\n",
       "  </tbody>\n",
       "</table>\n",
       "</div>"
      ],
      "text/plain": [
       "   A  B  C  D\n",
       "0  1  3  2  3\n",
       "1  1  3  2  3\n",
       "2  2  3  2  3\n",
       "3  2  4  4  4"
      ]
     },
     "execution_count": 70,
     "metadata": {},
     "output_type": "execute_result"
    }
   ],
   "source": [
    "df"
   ]
  },
  {
   "cell_type": "code",
   "execution_count": 71,
   "metadata": {},
   "outputs": [
    {
     "data": {
      "text/plain": [
       "A\n",
       "1    2\n",
       "2    2\n",
       "dtype: int64"
      ]
     },
     "execution_count": 71,
     "metadata": {},
     "output_type": "execute_result"
    }
   ],
   "source": [
    "df.groupby(['A']).size()"
   ]
  },
  {
   "cell_type": "code",
   "execution_count": 73,
   "metadata": {},
   "outputs": [
    {
     "data": {
      "text/plain": [
       "A\n",
       "1    3.0\n",
       "2    3.5\n",
       "Name: D, dtype: float64"
      ]
     },
     "execution_count": 73,
     "metadata": {},
     "output_type": "execute_result"
    }
   ],
   "source": [
    "df.groupby(['A'])['D'].mean()\n",
    "# (3+3)/2 = 3.0\n",
    "# (3+4)/2 = 3.5"
   ]
  },
  {
   "cell_type": "code",
   "execution_count": 80,
   "metadata": {},
   "outputs": [
    {
     "data": {
      "text/plain": [
       "D\n",
       "3    3\n",
       "4    1\n",
       "Name: C, dtype: int64"
      ]
     },
     "execution_count": 80,
     "metadata": {},
     "output_type": "execute_result"
    }
   ],
   "source": [
    "df.groupby(['D'])['C'].size()"
   ]
  },
  {
   "cell_type": "code",
   "execution_count": 76,
   "metadata": {},
   "outputs": [
    {
     "data": {
      "text/plain": [
       "D\n",
       "3    2\n",
       "4    4\n",
       "Name: C, dtype: int64"
      ]
     },
     "execution_count": 76,
     "metadata": {},
     "output_type": "execute_result"
    }
   ],
   "source": [
    "df.groupby(['D'])['C'].mean()\n",
    "# 根據欄位D，內容為3唯一組，內容為4為另外一組  \n",
    "# 3為一組 : (2+2+2)/3=2\n",
    "# 4為一組 : 4/1=4"
   ]
  },
  {
   "cell_type": "code",
   "execution_count": 82,
   "metadata": {
    "scrolled": true
   },
   "outputs": [
    {
     "name": "stderr",
     "output_type": "stream",
     "text": [
      "C:\\Users\\GGININDER\\Anaconda3\\lib\\site-packages\\ipykernel_launcher.py:1: FutureWarning: using a dict on a Series for aggregation\n",
      "is deprecated and will be removed in a future version\n",
      "  \"\"\"Entry point for launching an IPython kernel.\n"
     ]
    },
    {
     "data": {
      "text/html": [
       "<div>\n",
       "<style scoped>\n",
       "    .dataframe tbody tr th:only-of-type {\n",
       "        vertical-align: middle;\n",
       "    }\n",
       "\n",
       "    .dataframe tbody tr th {\n",
       "        vertical-align: top;\n",
       "    }\n",
       "\n",
       "    .dataframe thead th {\n",
       "        text-align: right;\n",
       "    }\n",
       "</style>\n",
       "<table border=\"1\" class=\"dataframe\">\n",
       "  <thead>\n",
       "    <tr style=\"text-align: right;\">\n",
       "      <th></th>\n",
       "      <th>Ticket_Count</th>\n",
       "    </tr>\n",
       "    <tr>\n",
       "      <th>D</th>\n",
       "      <th></th>\n",
       "    </tr>\n",
       "  </thead>\n",
       "  <tbody>\n",
       "    <tr>\n",
       "      <th>3</th>\n",
       "      <td>2</td>\n",
       "    </tr>\n",
       "    <tr>\n",
       "      <th>4</th>\n",
       "      <td>4</td>\n",
       "    </tr>\n",
       "  </tbody>\n",
       "</table>\n",
       "</div>"
      ],
      "text/plain": [
       "   Ticket_Count\n",
       "D              \n",
       "3             2\n",
       "4             4"
      ]
     },
     "execution_count": 82,
     "metadata": {},
     "output_type": "execute_result"
    }
   ],
   "source": [
    "count_df = df.groupby(['D'])['C'].agg({'Ticket_Count':'mean'})\n",
    "count_df"
   ]
  },
  {
   "cell_type": "markdown",
   "metadata": {},
   "source": [
    "# map"
   ]
  },
  {
   "cell_type": "code",
   "execution_count": 100,
   "metadata": {},
   "outputs": [
    {
     "data": {
      "text/plain": [
       "[1, 2, 3]"
      ]
     },
     "execution_count": 100,
     "metadata": {},
     "output_type": "execute_result"
    }
   ],
   "source": [
    "listA = ['1', '2', '3']\n",
    "list(map(int, listA))"
   ]
  },
  {
   "cell_type": "code",
   "execution_count": 107,
   "metadata": {},
   "outputs": [
    {
     "name": "stdout",
     "output_type": "stream",
     "text": [
      "[1, 4, 9]\n",
      "1\n",
      "4\n",
      "9\n"
     ]
    }
   ],
   "source": [
    "listA = [1, 2, 3]\n",
    "def square(x):\n",
    "    ans = x**2\n",
    "    return ans\n",
    "\n",
    "# 無法使用square(listA)列印出答案，要使用 map\n",
    "print( list(map(square, listA)) )\n",
    "# 也可用\n",
    "for i in map(square, listA):\n",
    "    print(i)"
   ]
  },
  {
   "cell_type": "code",
   "execution_count": 110,
   "metadata": {},
   "outputs": [
    {
     "data": {
      "text/plain": [
       "[1, 4, 9]"
      ]
     },
     "execution_count": 110,
     "metadata": {},
     "output_type": "execute_result"
    }
   ],
   "source": [
    "listA = [1, 2, 3]\n",
    "def square(x):\n",
    "    return x**2\n",
    "list(map(square, listA))"
   ]
  },
  {
   "cell_type": "code",
   "execution_count": 111,
   "metadata": {},
   "outputs": [
    {
     "data": {
      "text/plain": [
       "[1, 4, 9]"
      ]
     },
     "execution_count": 111,
     "metadata": {},
     "output_type": "execute_result"
    }
   ],
   "source": [
    "list(map(lambda x: x**2, listA))"
   ]
  },
  {
   "cell_type": "code",
   "execution_count": 112,
   "metadata": {},
   "outputs": [
    {
     "data": {
      "text/plain": [
       "[1, 4, 9]"
      ]
     },
     "execution_count": 112,
     "metadata": {},
     "output_type": "execute_result"
    }
   ],
   "source": [
    "list(map(lambda x: x**2, [1, 2, 3]))"
   ]
  },
  {
   "cell_type": "code",
   "execution_count": 114,
   "metadata": {},
   "outputs": [
    {
     "data": {
      "text/plain": [
       "[2, 4, 6]"
      ]
     },
     "execution_count": 114,
     "metadata": {},
     "output_type": "execute_result"
    }
   ],
   "source": [
    "list(map(lambda x, y: x+y, [1, 2, 3], [1, 2, 3]))"
   ]
  },
  {
   "cell_type": "markdown",
   "metadata": {},
   "source": [
    "# hash 雜湊值"
   ]
  },
  {
   "cell_type": "code",
   "execution_count": 123,
   "metadata": {},
   "outputs": [
    {
     "data": {
      "text/plain": [
       "-2759378551671259442"
      ]
     },
     "execution_count": 123,
     "metadata": {},
     "output_type": "execute_result"
    }
   ],
   "source": [
    "a = 'abc'\n",
    "hash(a)"
   ]
  },
  {
   "cell_type": "code",
   "execution_count": 125,
   "metadata": {},
   "outputs": [
    {
     "data": {
      "text/plain": [
       "12"
      ]
     },
     "execution_count": 125,
     "metadata": {},
     "output_type": "execute_result"
    }
   ],
   "source": [
    "b = 12\n",
    "hash(b)"
   ]
  },
  {
   "cell_type": "code",
   "execution_count": null,
   "metadata": {},
   "outputs": [],
   "source": []
  },
  {
   "cell_type": "code",
   "execution_count": null,
   "metadata": {},
   "outputs": [],
   "source": []
  },
  {
   "cell_type": "code",
   "execution_count": null,
   "metadata": {},
   "outputs": [],
   "source": []
  },
  {
   "cell_type": "code",
   "execution_count": 98,
   "metadata": {},
   "outputs": [],
   "source": [
    "with open ('123.jpg', 'rb') as f:\n",
    "    image = f.read()"
   ]
  },
  {
   "cell_type": "code",
   "execution_count": 99,
   "metadata": {},
   "outputs": [
    {
     "data": {
      "text/plain": [
       "b'\\xff\\xd8\\xff\\xe0\\x00\\x10JFIF\\x00\\x01\\x01\\x01\\x00`\\x00`\\x00\\x00\\xff\\xdb\\x00C\\x00\\x02\\x01\\x01\\x02\\x01\\x01\\x02\\x02\\x02\\x02\\x02\\x02\\x02\\x02\\x03\\x05\\x03\\x03\\x03\\x03\\x03\\x06\\x04\\x04\\x03\\x05\\x07\\x06\\x07\\x07\\x07\\x06\\x07\\x07\\x08\\t\\x0b\\t\\x08\\x08\\n\\x08\\x07\\x07\\n\\r\\n\\n\\x0b\\x0c\\x0c\\x0c\\x0c\\x07\\t\\x0e\\x0f\\r\\x0c\\x0e\\x0b\\x0c\\x0c\\x0c\\xff\\xdb\\x00C\\x01\\x02\\x02\\x02\\x03\\x03\\x03\\x06\\x03\\x03\\x06\\x0c\\x08\\x07\\x08\\x0c\\x0c\\x0c\\x0c\\x0c\\x0c\\x0c\\x0c\\x0c\\x0c\\x0c\\x0c\\x0c\\x0c\\x0c\\x0c\\x0c\\x0c\\x0c\\x0c\\x0c\\x0c\\x0c\\x0c\\x0c\\x0c\\x0c\\x0c\\x0c\\x0c\\x0c\\x0c\\x0c\\x0c\\x0c\\x0c\\x0c\\x0c\\x0c\\x0c\\x0c\\x0c\\x0c\\x0c\\x0c\\x0c\\x0c\\x0c\\x0c\\x0c\\xff\\xc0\\x00\\x11\\x08\\x00J\\x00M\\x03\\x01\"\\x00\\x02\\x11\\x01\\x03\\x11\\x01\\xff\\xc4\\x00\\x1f\\x00\\x00\\x01\\x05\\x01\\x01\\x01\\x01\\x01\\x01\\x00\\x00\\x00\\x00\\x00\\x00\\x00\\x00\\x01\\x02\\x03\\x04\\x05\\x06\\x07\\x08\\t\\n\\x0b\\xff\\xc4\\x00\\xb5\\x10\\x00\\x02\\x01\\x03\\x03\\x02\\x04\\x03\\x05\\x05\\x04\\x04\\x00\\x00\\x01}\\x01\\x02\\x03\\x00\\x04\\x11\\x05\\x12!1A\\x06\\x13Qa\\x07\"q\\x142\\x81\\x91\\xa1\\x08#B\\xb1\\xc1\\x15R\\xd1\\xf0$3br\\x82\\t\\n\\x16\\x17\\x18\\x19\\x1a%&\\'()*456789:CDEFGHIJSTUVWXYZcdefghijstuvwxyz\\x83\\x84\\x85\\x86\\x87\\x88\\x89\\x8a\\x92\\x93\\x94\\x95\\x96\\x97\\x98\\x99\\x9a\\xa2\\xa3\\xa4\\xa5\\xa6\\xa7\\xa8\\xa9\\xaa\\xb2\\xb3\\xb4\\xb5\\xb6\\xb7\\xb8\\xb9\\xba\\xc2\\xc3\\xc4\\xc5\\xc6\\xc7\\xc8\\xc9\\xca\\xd2\\xd3\\xd4\\xd5\\xd6\\xd7\\xd8\\xd9\\xda\\xe1\\xe2\\xe3\\xe4\\xe5\\xe6\\xe7\\xe8\\xe9\\xea\\xf1\\xf2\\xf3\\xf4\\xf5\\xf6\\xf7\\xf8\\xf9\\xfa\\xff\\xc4\\x00\\x1f\\x01\\x00\\x03\\x01\\x01\\x01\\x01\\x01\\x01\\x01\\x01\\x01\\x00\\x00\\x00\\x00\\x00\\x00\\x01\\x02\\x03\\x04\\x05\\x06\\x07\\x08\\t\\n\\x0b\\xff\\xc4\\x00\\xb5\\x11\\x00\\x02\\x01\\x02\\x04\\x04\\x03\\x04\\x07\\x05\\x04\\x04\\x00\\x01\\x02w\\x00\\x01\\x02\\x03\\x11\\x04\\x05!1\\x06\\x12AQ\\x07aq\\x13\"2\\x81\\x08\\x14B\\x91\\xa1\\xb1\\xc1\\t#3R\\xf0\\x15br\\xd1\\n\\x16$4\\xe1%\\xf1\\x17\\x18\\x19\\x1a&\\'()*56789:CDEFGHIJSTUVWXYZcdefghijstuvwxyz\\x82\\x83\\x84\\x85\\x86\\x87\\x88\\x89\\x8a\\x92\\x93\\x94\\x95\\x96\\x97\\x98\\x99\\x9a\\xa2\\xa3\\xa4\\xa5\\xa6\\xa7\\xa8\\xa9\\xaa\\xb2\\xb3\\xb4\\xb5\\xb6\\xb7\\xb8\\xb9\\xba\\xc2\\xc3\\xc4\\xc5\\xc6\\xc7\\xc8\\xc9\\xca\\xd2\\xd3\\xd4\\xd5\\xd6\\xd7\\xd8\\xd9\\xda\\xe2\\xe3\\xe4\\xe5\\xe6\\xe7\\xe8\\xe9\\xea\\xf2\\xf3\\xf4\\xf5\\xf6\\xf7\\xf8\\xf9\\xfa\\xff\\xda\\x00\\x0c\\x03\\x01\\x00\\x02\\x11\\x03\\x11\\x00?\\x00\\xfd\\xfc\\xa2\\x8a\\xf8\\'\\xfe\"%\\xf8)\\xff\\x00B\\xbf\\xc5/\\xfc\\x16\\xd8\\x7f\\xf2erb\\xb1\\xf8|5\\xbd\\xbc\\xd4o\\xb5\\xcf\\xa7\\xe1\\xce\\x0c\\xce\\xf3\\xff\\x00i\\xfd\\x8d\\x86\\x95ognn^\\x9c\\xd7\\xb5\\xfdy_\\xdc}\\xedE|Q\\xf0\\xab\\xfe\\x0b\\xc1\\xf0\\x8b\\xe2\\xff\\x00\\xc5\\x0f\\r\\xf8KM\\xf0\\xe7\\xc4\\x885\\x1f\\x14j\\xb6\\xbaE\\xac\\x97:}\\x92\\xc1\\x1c\\xb7\\x12\\xacH\\xceV\\xed\\x98(g\\x19!I\\xc6p\\x0fJ\\xfb^\\x9e\\x17\\x1bC\\x12\\x9c\\xa8II.\\xc6\\\\E\\xc2Y\\xc6CR\\x14s\\x8c<\\xa8\\xcaj\\xe9K\\xaaZ\\\\(\\xa2\\x8a\\xea>t(\\xa2\\x8a\\x00(\\xa2\\x8a\\x00+\\xf0\\x9f\\xfe\\x08\\xc7\\xfb1x\\x1b\\xf6\\xb0\\xfd\\xa8u\\xef\\x0e\\xf8\\xff\\x00D\\xfe\\xdf\\xd1\\xac\\xbc-q\\xa9Co\\xf6\\xcb\\x8b]\\x97\\x0bwg\\x1a\\xbe\\xe8\\x1d\\x18\\xe1%\\x90`\\x9c|\\xdd2\\x06?v+\\xf1\\x97\\xfe\\r\\xda\\xff\\x00\\x93\\xd6\\xf1G\\xfd\\x89\\x17\\x7f\\xfa_\\xa7\\xd7\\xca\\xe7\\xb4\\xe3S\\x1d\\x84\\x84\\xd5\\xd3r\\xd1\\xff\\x00\\xdb\\xa7\\xf4g\\x83\\xb8\\xdcN\\x0f\\x83\\xf8\\x9b\\x13\\x84\\xa9*u#N\\x83R\\x8bq\\x92w\\xab\\xaaj\\xcd?C\\x96\\xf8\\xb1\\xf0[\\xc3?\\xb3\\xc7\\xfc\\x16\\xeb\\xc2\\xde\\x0f\\xf0~\\x9b\\xfd\\x91\\xe1\\xcd#\\xc6\\xfe\\x16\\xfb%\\xa7\\xda%\\xb8\\xf2|\\xd1a3\\xfc\\xf2\\xb39\\xcc\\x929\\xe5\\x8e3\\x81\\xc0\\x02\\xbd\\x13\\xfe\\x0e\\xb5\\xff\\x00\\x82\\xa3\\xfcv\\xff\\x00\\x82k\\xff\\x00\\xc2\\x86\\xff\\x00\\x85+\\xe3\\x9f\\xf8B\\xff\\x00\\xe14\\xff\\x00\\x84\\x87\\xfbg\\xfe$\\xba~\\xa3\\xf6\\xcf\\xb2\\xff\\x00e\\xf9\\x1f\\xf1\\xf7\\x04\\xbb6\\xfd\\xa2o\\xb9\\xb7;\\xf9\\xce\\x061?l\\x1f\\xf9X\\x17I\\xff\\x00\\xb1\\xdf\\xc2_\\xfa\\'M\\xaf\\x1b\\xff\\x00\\x83\\xe7?\\xe6\\xd7\\x7f\\xeek\\xff\\x00\\xdc-W\\x0eF1\\xab\\x8a\\x8cU\\x92\\xa8\\xff\\x00S?\\x1d\\xb15\\xb1\\x19w\\x0fb1\\x12s\\x9c\\xf0t\\xdc\\xa4\\xdbm\\xb7\\x18\\xb6\\xdbz\\xb6\\xde\\xad\\xbd[>p\\xf0\\x9f\\xfc\\x15c\\xfe\\n\\xfb\\xe3\\xdf\\n\\xe9\\xba\\xee\\x85\\xa7\\xfco\\xd6\\xb4Mj\\xd2+\\xfd?P\\xb0\\xf8#gsk\\x7fo*\\x07\\x8ah\\xa5M(\\xa4\\x91\\xba2\\xb2\\xb2\\x92\\x18\\x10A \\xd6\\x7f\\xc5/\\xf8,\\'\\xfc\\x15\\xa3\\xe0w\\x81/\\xbcS\\xe3V\\xf8\\xbf\\xe0\\xff\\x00\\x0c\\xe9~_\\xdb5}o\\xe0\\xd5\\x86\\x9fai\\xe6H\\xb1G\\xe6O.\\x96\\xb1\\xa6\\xe9\\x1d\\x10n#,\\xea\\x07$\\n\\xfe\\x87\\x7f\\xe0\\x93\\xbf\\xf2\\x8b/\\xd9\\xa7\\xfe\\xc9W\\x85\\xff\\x00\\xf4\\xd1k^\\x01\\xff\\x00\\x07G\\x7f\\xca\\n>9\\xff\\x00\\xdc\\x03\\xff\\x00R\\r2\\xbe\\xa0\\xfew9\\xff\\x00\\xf85\\xff\\x00\\xf6\\xf5\\xf8\\xb1\\xff\\x00\\x05\\x11\\xfd\\x81|]\\xe3_\\x8c^+\\xff\\x00\\x84\\xc3\\xc4\\xda_\\xc4\\x0b\\xcd\\x12\\xd6\\xf3\\xfb2\\xcfO\\xf2\\xac\\xe3\\xd3\\xb4\\xd9\\x92/.\\xd6(\\xa38\\x92\\xe2f\\xdcT\\xb7\\xcf\\x82p\\x00\\x1f\\xa3\\xf5\\xf9\\x01\\xff\\x00\\x06T\\xff\\x00\\xca,\\xbc}\\xff\\x00eWQ\\xff\\x00\\xd3F\\x8f_\\xaf\\xf4\\x00QE\\x14\\x00W\\xe3/\\xfc\\x1b\\xb5\\xff\\x00\\'\\xad\\xe2\\x8f\\xfb\\x12.\\xff\\x00\\xf4\\xbfO\\xaf\\xd9\\xaa\\xfce\\xff\\x00\\x83v\\xbf\\xe4\\xf5\\xbcQ\\xff\\x00bE\\xdf\\xfe\\x97\\xe9\\xf5\\xf3\\x19\\xd7\\xfc\\x8c0~\\xb2\\xff\\x00\\xdbO\\xe8/\\n\\x7f\\xe4\\x88\\xe2\\x8f\\xfa\\xf7C\\xf3\\xaa\\x1f\\xb6\\x0f\\xfc\\xac\\x0b\\xa4\\xff\\x00\\xd8\\xef\\xe1/\\xfd\\x13\\xa6\\xd7\\x8d\\xff\\x00\\xc1\\xf3\\x9f\\xf3k\\xbf\\xf75\\xff\\x00\\xee\\x16\\xbd\\x93\\xf6\\xc1\\xff\\x00\\x95\\x81t\\x9f\\xfb\\x1d\\xfc%\\xff\\x00\\xa2t\\xda\\xf1\\xbf\\xf8>s\\xfemw\\xfe\\xe6\\xbf\\xfd\\xc2\\xd3\\xe1\\xff\\x00\\xe3\\xe2\\xbf\\xeb\\xe3\\xfc\\xd8x\\xdb\\xff\\x00\"\\x8e\\x1b\\xff\\x00\\xb0*\\x7f\\xfaL\\x0f\\xd7\\xef\\xf8$\\xef\\xfc\\xa2\\xcb\\xf6i\\xff\\x00\\xb2U\\xe1\\x7f\\xfd4Z\\xd7\\x80\\x7f\\xc1\\xd1\\xdf\\xf2\\x82\\x8f\\x8e\\x7f\\xf7\\x00\\xff\\x00\\xd4\\x83L\\xad\\x0f\\xf8&W\\xfc\\x14\\xdb\\xf6n\\xf0\\x17\\xfc\\x13o\\xf6|\\xd0\\xb5\\xdf\\xda\\x0f\\xe0\\x86\\x8b\\xad\\xe8\\xbf\\r|9a\\xa8i\\xf7\\xfe:\\xd2\\xed\\xae\\xac.\"\\xd2\\xed\\x92Xe\\x89\\xe7\\x0f\\x1c\\x88\\xea\\xca\\xca\\xc0\\x15 \\x82\\x01\\x15\\xe1\\xff\\x00\\xf0q\\xe7\\xfc\\x14\\'\\xe0\\x17\\xc7\\x1f\\xf8#\\x1f\\xc6O\\x0bx+\\xe3\\x87\\xc2\\x0f\\x18x\\x9bT\\xfe\\xc4\\xfb\\x1e\\x91\\xa2x\\xcbN\\xd4/\\xee\\xfc\\xbdsO\\x96O.\\x08\\xa6i\\x1flh\\xeev\\x83\\x85F\\'\\x80M}1\\xfc\\xfas\\xff\\x00\\xf0eO\\xfc\\xa2\\xcb\\xc7\\xdf\\xf6Uu\\x1f\\xfd4h\\xf5\\xfa\\xff\\x00_\\x90\\x1f\\xf0eO\\xfc\\xa2\\xcb\\xc7\\xdf\\xf6Uu\\x1f\\xfd4h\\xf5\\xfa\\xff\\x00@\\x05\\x14Q@\\x05~2\\xff\\x00\\xc1\\xbb_\\xf2z\\xde(\\xff\\x00\\xb1\"\\xef\\xff\\x00K\\xf4\\xfa\\xfd\\x9a\\xaf\\xc6_\\xf8\\x87k\\xe3_\\xfd\\r\\x1f\\x0b\\x7f\\xf0e\\x7f\\xff\\x00\\xc8u\\xf3\\x19\\xf5,G\\xd60\\xf5\\xe8Ss\\xe4rm/\\x91\\xfd\\x05\\xe0\\xcea\\x92\\x7fbgy6s\\x8d\\x8e\\x17\\xebQ\\xa3\\x18\\xcaJ\\xfb{[\\xb4\\xae\\xafk\\xae\\xabp\\xfd\\xb0\\x7f\\xe5`]\\'\\xfe\\xc7\\x7f\\t\\x7f\\xe8\\x9d6\\xbe\\x9b\\xff\\x00\\x82\\xe7\\x7f\\xc1\\x0c\\x7f\\xe1\\xf4\\x7f\\xf0\\xab\\xbf\\xe2\\xe8\\xff\\x00\\xc2\\xb6\\xff\\x00\\x85m\\xfd\\xad\\xff\\x002\\xdf\\xf6\\xc7\\xf6\\x8f\\xdb\\xbe\\xc5\\xff\\x00OV\\xfe^\\xcf\\xb1\\xff\\x00\\xb5\\xbb\\xcc\\xfe\\x1d\\xbc\\xf8\\xbf\\xec\\xe3\\xff\\x00\\x04\\x1f\\xf8\\xbd\\xf0\\x83\\xf6\\x86\\xf0\\x1f\\x8bu/\\x11\\xfc8\\x9fN\\xf0\\xbf\\x88\\xb4\\xfd^\\xea;mB\\xf5\\xa7\\x92+{\\x98\\xe5u@\\xd6\\x8a\\xa5\\xca\\xa1\\xc0,\\x06q\\x92:\\xd7\\xeb=_\\x0fQ\\xaf\\x17^\\xa5x89\\xca\\xf6~g?\\x8d\\xf9\\xaeO\\x88\\xa7\\x94\\xe02|\\\\q1\\xc2\\xe1\\xe3I\\xca*\\xd7q\\xb4omm{^\\xd7v\\xee\\xcf\\xc0\\x1f\\xf8\\x81\\x8f\\xfe\\xae\\x8b\\xff\\x001\\xbf\\xff\\x00}(\\xff\\x00\\x88\\x18\\xff\\x00\\xea\\xe8\\xbf\\xf3\\x1b\\xff\\x00\\xf7\\xd2\\xbf\\x7f\\xa8\\xaf\\xa4?\\x05>@\\xff\\x00\\x82*\\x7f\\xc1)\\x7f\\xe1\\xcf\\x9f\\xb2\\xc6\\xbf\\xf0\\xd3\\xfe\\x13\\xdf\\xf8X\\x9f\\xdb\\x9e+\\xb8\\xf1?\\xf6\\x97\\xf6\\'\\xf6G\\x91\\xe6\\xdaY\\xdby\\x1eW\\xda\\'\\xdd\\x8f\\xb2n\\xdf\\xbcg\\xcc\\xc6\\xd1\\xb7\\'\\xeb\\xfa(\\xa0\\x02\\x8a(\\xa0\\x02\\x8a(\\xa0\\x02\\x8a(\\xa0\\x02\\x8a(\\xa0\\x02\\x8a(\\xa0\\x02\\x8a(\\xa0\\x0f\\xff\\xd9'"
      ]
     },
     "execution_count": 99,
     "metadata": {},
     "output_type": "execute_result"
    }
   ],
   "source": [
    "image"
   ]
  },
  {
   "cell_type": "code",
   "execution_count": 100,
   "metadata": {},
   "outputs": [
    {
     "data": {
      "text/plain": [
       "'b\\'\\\\xff\\\\xd8\\\\xff\\\\xe0\\\\x00\\\\x10JFIF\\\\x00\\\\x01\\\\x01\\\\x01\\\\x00`\\\\x00`\\\\x00\\\\x00\\\\xff\\\\xdb\\\\x00C\\\\x00\\\\x02\\\\x01\\\\x01\\\\x02\\\\x01\\\\x01\\\\x02\\\\x02\\\\x02\\\\x02\\\\x02\\\\x02\\\\x02\\\\x02\\\\x03\\\\x05\\\\x03\\\\x03\\\\x03\\\\x03\\\\x03\\\\x06\\\\x04\\\\x04\\\\x03\\\\x05\\\\x07\\\\x06\\\\x07\\\\x07\\\\x07\\\\x06\\\\x07\\\\x07\\\\x08\\\\t\\\\x0b\\\\t\\\\x08\\\\x08\\\\n\\\\x08\\\\x07\\\\x07\\\\n\\\\r\\\\n\\\\n\\\\x0b\\\\x0c\\\\x0c\\\\x0c\\\\x0c\\\\x07\\\\t\\\\x0e\\\\x0f\\\\r\\\\x0c\\\\x0e\\\\x0b\\\\x0c\\\\x0c\\\\x0c\\\\xff\\\\xdb\\\\x00C\\\\x01\\\\x02\\\\x02\\\\x02\\\\x03\\\\x03\\\\x03\\\\x06\\\\x03\\\\x03\\\\x06\\\\x0c\\\\x08\\\\x07\\\\x08\\\\x0c\\\\x0c\\\\x0c\\\\x0c\\\\x0c\\\\x0c\\\\x0c\\\\x0c\\\\x0c\\\\x0c\\\\x0c\\\\x0c\\\\x0c\\\\x0c\\\\x0c\\\\x0c\\\\x0c\\\\x0c\\\\x0c\\\\x0c\\\\x0c\\\\x0c\\\\x0c\\\\x0c\\\\x0c\\\\x0c\\\\x0c\\\\x0c\\\\x0c\\\\x0c\\\\x0c\\\\x0c\\\\x0c\\\\x0c\\\\x0c\\\\x0c\\\\x0c\\\\x0c\\\\x0c\\\\x0c\\\\x0c\\\\x0c\\\\x0c\\\\x0c\\\\x0c\\\\x0c\\\\x0c\\\\x0c\\\\x0c\\\\x0c\\\\xff\\\\xc0\\\\x00\\\\x11\\\\x08\\\\x00J\\\\x00M\\\\x03\\\\x01\"\\\\x00\\\\x02\\\\x11\\\\x01\\\\x03\\\\x11\\\\x01\\\\xff\\\\xc4\\\\x00\\\\x1f\\\\x00\\\\x00\\\\x01\\\\x05\\\\x01\\\\x01\\\\x01\\\\x01\\\\x01\\\\x01\\\\x00\\\\x00\\\\x00\\\\x00\\\\x00\\\\x00\\\\x00\\\\x00\\\\x01\\\\x02\\\\x03\\\\x04\\\\x05\\\\x06\\\\x07\\\\x08\\\\t\\\\n\\\\x0b\\\\xff\\\\xc4\\\\x00\\\\xb5\\\\x10\\\\x00\\\\x02\\\\x01\\\\x03\\\\x03\\\\x02\\\\x04\\\\x03\\\\x05\\\\x05\\\\x04\\\\x04\\\\x00\\\\x00\\\\x01}\\\\x01\\\\x02\\\\x03\\\\x00\\\\x04\\\\x11\\\\x05\\\\x12!1A\\\\x06\\\\x13Qa\\\\x07\"q\\\\x142\\\\x81\\\\x91\\\\xa1\\\\x08#B\\\\xb1\\\\xc1\\\\x15R\\\\xd1\\\\xf0$3br\\\\x82\\\\t\\\\n\\\\x16\\\\x17\\\\x18\\\\x19\\\\x1a%&\\\\\\'()*456789:CDEFGHIJSTUVWXYZcdefghijstuvwxyz\\\\x83\\\\x84\\\\x85\\\\x86\\\\x87\\\\x88\\\\x89\\\\x8a\\\\x92\\\\x93\\\\x94\\\\x95\\\\x96\\\\x97\\\\x98\\\\x99\\\\x9a\\\\xa2\\\\xa3\\\\xa4\\\\xa5\\\\xa6\\\\xa7\\\\xa8\\\\xa9\\\\xaa\\\\xb2\\\\xb3\\\\xb4\\\\xb5\\\\xb6\\\\xb7\\\\xb8\\\\xb9\\\\xba\\\\xc2\\\\xc3\\\\xc4\\\\xc5\\\\xc6\\\\xc7\\\\xc8\\\\xc9\\\\xca\\\\xd2\\\\xd3\\\\xd4\\\\xd5\\\\xd6\\\\xd7\\\\xd8\\\\xd9\\\\xda\\\\xe1\\\\xe2\\\\xe3\\\\xe4\\\\xe5\\\\xe6\\\\xe7\\\\xe8\\\\xe9\\\\xea\\\\xf1\\\\xf2\\\\xf3\\\\xf4\\\\xf5\\\\xf6\\\\xf7\\\\xf8\\\\xf9\\\\xfa\\\\xff\\\\xc4\\\\x00\\\\x1f\\\\x01\\\\x00\\\\x03\\\\x01\\\\x01\\\\x01\\\\x01\\\\x01\\\\x01\\\\x01\\\\x01\\\\x01\\\\x00\\\\x00\\\\x00\\\\x00\\\\x00\\\\x00\\\\x01\\\\x02\\\\x03\\\\x04\\\\x05\\\\x06\\\\x07\\\\x08\\\\t\\\\n\\\\x0b\\\\xff\\\\xc4\\\\x00\\\\xb5\\\\x11\\\\x00\\\\x02\\\\x01\\\\x02\\\\x04\\\\x04\\\\x03\\\\x04\\\\x07\\\\x05\\\\x04\\\\x04\\\\x00\\\\x01\\\\x02w\\\\x00\\\\x01\\\\x02\\\\x03\\\\x11\\\\x04\\\\x05!1\\\\x06\\\\x12AQ\\\\x07aq\\\\x13\"2\\\\x81\\\\x08\\\\x14B\\\\x91\\\\xa1\\\\xb1\\\\xc1\\\\t#3R\\\\xf0\\\\x15br\\\\xd1\\\\n\\\\x16$4\\\\xe1%\\\\xf1\\\\x17\\\\x18\\\\x19\\\\x1a&\\\\\\'()*56789:CDEFGHIJSTUVWXYZcdefghijstuvwxyz\\\\x82\\\\x83\\\\x84\\\\x85\\\\x86\\\\x87\\\\x88\\\\x89\\\\x8a\\\\x92\\\\x93\\\\x94\\\\x95\\\\x96\\\\x97\\\\x98\\\\x99\\\\x9a\\\\xa2\\\\xa3\\\\xa4\\\\xa5\\\\xa6\\\\xa7\\\\xa8\\\\xa9\\\\xaa\\\\xb2\\\\xb3\\\\xb4\\\\xb5\\\\xb6\\\\xb7\\\\xb8\\\\xb9\\\\xba\\\\xc2\\\\xc3\\\\xc4\\\\xc5\\\\xc6\\\\xc7\\\\xc8\\\\xc9\\\\xca\\\\xd2\\\\xd3\\\\xd4\\\\xd5\\\\xd6\\\\xd7\\\\xd8\\\\xd9\\\\xda\\\\xe2\\\\xe3\\\\xe4\\\\xe5\\\\xe6\\\\xe7\\\\xe8\\\\xe9\\\\xea\\\\xf2\\\\xf3\\\\xf4\\\\xf5\\\\xf6\\\\xf7\\\\xf8\\\\xf9\\\\xfa\\\\xff\\\\xda\\\\x00\\\\x0c\\\\x03\\\\x01\\\\x00\\\\x02\\\\x11\\\\x03\\\\x11\\\\x00?\\\\x00\\\\xfd\\\\xfc\\\\xa2\\\\x8a\\\\xf8\\\\\\'\\\\xfe\"%\\\\xf8)\\\\xff\\\\x00B\\\\xbf\\\\xc5/\\\\xfc\\\\x16\\\\xd8\\\\x7f\\\\xf2erb\\\\xb1\\\\xf8|5\\\\xbd\\\\xbc\\\\xd4o\\\\xb5\\\\xcf\\\\xa7\\\\xe1\\\\xce\\\\x0c\\\\xce\\\\xf3\\\\xff\\\\x00i\\\\xfd\\\\x8d\\\\x86\\\\x95ognn^\\\\x9c\\\\xd7\\\\xb5\\\\xfdy_\\\\xdc}\\\\xedE|Q\\\\xf0\\\\xab\\\\xfe\\\\x0b\\\\xc1\\\\xf0\\\\x8b\\\\xe2\\\\xff\\\\x00\\\\xc5\\\\x0f\\\\r\\\\xf8KM\\\\xf0\\\\xe7\\\\xc4\\\\x885\\\\x1f\\\\x14j\\\\xb6\\\\xbaE\\\\xac\\\\x97:}\\\\x92\\\\xc1\\\\x1c\\\\xb7\\\\x12\\\\xacH\\\\xceV\\\\xed\\\\x98(g\\\\x19!I\\\\xc6p\\\\x0fJ\\\\xfb^\\\\x9e\\\\x17\\\\x1bC\\\\x12\\\\x9c\\\\xa8II.\\\\xc6\\\\\\\\E\\\\xc2Y\\\\xc6CR\\\\x14s\\\\x8c<\\\\xa8\\\\xcaj\\\\xe9K\\\\xaaZ\\\\\\\\(\\\\xa2\\\\x8a\\\\xea>t(\\\\xa2\\\\x8a\\\\x00(\\\\xa2\\\\x8a\\\\x00+\\\\xf0\\\\x9f\\\\xfe\\\\x08\\\\xc7\\\\xfb1x\\\\x1b\\\\xf6\\\\xb0\\\\xfd\\\\xa8u\\\\xef\\\\x0e\\\\xf8\\\\xff\\\\x00D\\\\xfe\\\\xdf\\\\xd1\\\\xac\\\\xbc-q\\\\xa9Co\\\\xf6\\\\xcb\\\\x8b]\\\\x97\\\\x0bwg\\\\x1a\\\\xbe\\\\xe8\\\\x1d\\\\x18\\\\xe1%\\\\x90`\\\\x9c|\\\\xdd2\\\\x06?v+\\\\xf1\\\\x97\\\\xfe\\\\r\\\\xda\\\\xff\\\\x00\\\\x93\\\\xd6\\\\xf1G\\\\xfd\\\\x89\\\\x17\\\\x7f\\\\xfa_\\\\xa7\\\\xd7\\\\xca\\\\xe7\\\\xb4\\\\xe3S\\\\x1d\\\\x84\\\\x84\\\\xd5\\\\xd3r\\\\xd1\\\\xff\\\\x00\\\\xdb\\\\xa7\\\\xf4g\\\\x83\\\\xb8\\\\xdcN\\\\x0f\\\\x83\\\\xf8\\\\x9b\\\\x13\\\\x84\\\\xa9*u#N\\\\x83R\\\\x8bq\\\\x92w\\\\xab\\\\xaaj\\\\xcd?C\\\\x96\\\\xf8\\\\xb1\\\\xf0[\\\\xc3?\\\\xb3\\\\xc7\\\\xfc\\\\x16\\\\xeb\\\\xc2\\\\xde\\\\x0f\\\\xf0~\\\\x9b\\\\xfd\\\\x91\\\\xe1\\\\xcd#\\\\xc6\\\\xfe\\\\x16\\\\xfb%\\\\xa7\\\\xda%\\\\xb8\\\\xf2|\\\\xd1a3\\\\xfc\\\\xf2\\\\xb39\\\\xcc\\\\x929\\\\xe5\\\\x8e3\\\\x81\\\\xc0\\\\x02\\\\xbd\\\\x13\\\\xfe\\\\x0e\\\\xb5\\\\xff\\\\x00\\\\x82\\\\xa3\\\\xfcv\\\\xff\\\\x00\\\\x82k\\\\xff\\\\x00\\\\xc2\\\\x86\\\\xff\\\\x00\\\\x85+\\\\xe3\\\\x9f\\\\xf8B\\\\xff\\\\x00\\\\xe14\\\\xff\\\\x00\\\\x84\\\\x87\\\\xfbg\\\\xfe$\\\\xba~\\\\xa3\\\\xf6\\\\xcf\\\\xb2\\\\xff\\\\x00e\\\\xf9\\\\x1f\\\\xf1\\\\xf7\\\\x04\\\\xbb6\\\\xfd\\\\xa2o\\\\xb9\\\\xb7;\\\\xf9\\\\xce\\\\x061?l\\\\x1f\\\\xf9X\\\\x17I\\\\xff\\\\x00\\\\xb1\\\\xdf\\\\xc2_\\\\xfa\\\\\\'M\\\\xaf\\\\x1b\\\\xff\\\\x00\\\\x83\\\\xe7?\\\\xe6\\\\xd7\\\\x7f\\\\xeek\\\\xff\\\\x00\\\\xdc-W\\\\x0eF1\\\\xab\\\\x8a\\\\x8cU\\\\x92\\\\xa8\\\\xff\\\\x00S?\\\\x1d\\\\xb15\\\\xb1\\\\x19w\\\\x0fb1\\\\x12s\\\\x9c\\\\xf0t\\\\xdc\\\\xa4\\\\xdbm\\\\xb7\\\\x18\\\\xb6\\\\xdbz\\\\xb6\\\\xde\\\\xad\\\\xbd[>p\\\\xf0\\\\x9f\\\\xfc\\\\x15c\\\\xfe\\\\n\\\\xfb\\\\xe3\\\\xdf\\\\n\\\\xe9\\\\xba\\\\xee\\\\x85\\\\xa7\\\\xfco\\\\xd6\\\\xb4Mj\\\\xd2+\\\\xfd?P\\\\xb0\\\\xf8#gsk\\\\x7fo*\\\\x07\\\\x8ah\\\\xa5M(\\\\xa4\\\\x91\\\\xba2\\\\xb2\\\\xb2\\\\x92\\\\x18\\\\x10A \\\\xd6\\\\x7f\\\\xc5/\\\\xf8,\\\\\\'\\\\xfc\\\\x15\\\\xa3\\\\xe0w\\\\x81/\\\\xbcS\\\\xe3V\\\\xf8\\\\xbf\\\\xe0\\\\xff\\\\x00\\\\x0c\\\\xe9~_\\\\xdb5}o\\\\xe0\\\\xd5\\\\x86\\\\x9fai\\\\xe6H\\\\xb1G\\\\xe6O.\\\\x96\\\\xb1\\\\xa6\\\\xe9\\\\x1d\\\\x10n#,\\\\xea\\\\x07$\\\\n\\\\xfe\\\\x87\\\\x7f\\\\xe0\\\\x93\\\\xbf\\\\xf2\\\\x8b/\\\\xd9\\\\xa7\\\\xfe\\\\xc9W\\\\x85\\\\xff\\\\x00\\\\xf4\\\\xd1k^\\\\x01\\\\xff\\\\x00\\\\x07G\\\\x7f\\\\xca\\\\n>9\\\\xff\\\\x00\\\\xdc\\\\x03\\\\xff\\\\x00R\\\\r2\\\\xbe\\\\xa0\\\\xfew9\\\\xff\\\\x00\\\\xf85\\\\xff\\\\x00\\\\xf6\\\\xf5\\\\xf8\\\\xb1\\\\xff\\\\x00\\\\x05\\\\x11\\\\xfd\\\\x81|]\\\\xe3_\\\\x8c^+\\\\xff\\\\x00\\\\x84\\\\xc3\\\\xc4\\\\xda_\\\\xc4\\\\x0b\\\\xcd\\\\x12\\\\xd6\\\\xf3\\\\xfb2\\\\xcfO\\\\xf2\\\\xac\\\\xe3\\\\xd3\\\\xb4\\\\xd9\\\\x92/.\\\\xd6(\\\\xa38\\\\x92\\\\xe2f\\\\xdcT\\\\xb7\\\\xcf\\\\x82p\\\\x00\\\\x1f\\\\xa3\\\\xf5\\\\xf9\\\\x01\\\\xff\\\\x00\\\\x06T\\\\xff\\\\x00\\\\xca,\\\\xbc}\\\\xff\\\\x00eWQ\\\\xff\\\\x00\\\\xd3F\\\\x8f_\\\\xaf\\\\xf4\\\\x00QE\\\\x14\\\\x00W\\\\xe3/\\\\xfc\\\\x1b\\\\xb5\\\\xff\\\\x00\\\\\\'\\\\xad\\\\xe2\\\\x8f\\\\xfb\\\\x12.\\\\xff\\\\x00\\\\xf4\\\\xbfO\\\\xaf\\\\xd9\\\\xaa\\\\xfce\\\\xff\\\\x00\\\\x83v\\\\xbf\\\\xe4\\\\xf5\\\\xbcQ\\\\xff\\\\x00bE\\\\xdf\\\\xfe\\\\x97\\\\xe9\\\\xf5\\\\xf3\\\\x19\\\\xd7\\\\xfc\\\\x8c0~\\\\xb2\\\\xff\\\\x00\\\\xdbO\\\\xe8/\\\\n\\\\x7f\\\\xe4\\\\x88\\\\xe2\\\\x8f\\\\xfa\\\\xf7C\\\\xf3\\\\xaa\\\\x1f\\\\xb6\\\\x0f\\\\xfc\\\\xac\\\\x0b\\\\xa4\\\\xff\\\\x00\\\\xd8\\\\xef\\\\xe1/\\\\xfd\\\\x13\\\\xa6\\\\xd7\\\\x8d\\\\xff\\\\x00\\\\xc1\\\\xf3\\\\x9f\\\\xf3k\\\\xbf\\\\xf75\\\\xff\\\\x00\\\\xee\\\\x16\\\\xbd\\\\x93\\\\xf6\\\\xc1\\\\xff\\\\x00\\\\x95\\\\x81t\\\\x9f\\\\xfb\\\\x1d\\\\xfc%\\\\xff\\\\x00\\\\xa2t\\\\xda\\\\xf1\\\\xbf\\\\xf8>s\\\\xfemw\\\\xfe\\\\xe6\\\\xbf\\\\xfd\\\\xc2\\\\xd3\\\\xe1\\\\xff\\\\x00\\\\xe3\\\\xe2\\\\xbf\\\\xeb\\\\xe3\\\\xfc\\\\xd8x\\\\xdb\\\\xff\\\\x00\"\\\\x8e\\\\x1b\\\\xff\\\\x00\\\\xb0*\\\\x7f\\\\xfaL\\\\x0f\\\\xd7\\\\xef\\\\xf8$\\\\xef\\\\xfc\\\\xa2\\\\xcb\\\\xf6i\\\\xff\\\\x00\\\\xb2U\\\\xe1\\\\x7f\\\\xfd4Z\\\\xd7\\\\x80\\\\x7f\\\\xc1\\\\xd1\\\\xdf\\\\xf2\\\\x82\\\\x8f\\\\x8e\\\\x7f\\\\xf7\\\\x00\\\\xff\\\\x00\\\\xd4\\\\x83L\\\\xad\\\\x0f\\\\xf8&W\\\\xfc\\\\x14\\\\xdb\\\\xf6n\\\\xf0\\\\x17\\\\xfc\\\\x13o\\\\xf6|\\\\xd0\\\\xb5\\\\xdf\\\\xda\\\\x0f\\\\xe0\\\\x86\\\\x8b\\\\xad\\\\xe8\\\\xbf\\\\r|9a\\\\xa8i\\\\xf7\\\\xfe:\\\\xd2\\\\xed\\\\xae\\\\xac.\"\\\\xd2\\\\xed\\\\x92Xe\\\\x89\\\\xe7\\\\x0f\\\\x1c\\\\x88\\\\xea\\\\xca\\\\xca\\\\xc0\\\\x15 \\\\x82\\\\x01\\\\x15\\\\xe1\\\\xff\\\\x00\\\\xf0q\\\\xe7\\\\xfc\\\\x14\\\\\\'\\\\xe0\\\\x17\\\\xc7\\\\x1f\\\\xf8#\\\\x1f\\\\xc6O\\\\x0bx+\\\\xe3\\\\x87\\\\xc2\\\\x0f\\\\x18x\\\\x9bT\\\\xfe\\\\xc4\\\\xfb\\\\x1e\\\\x91\\\\xa2x\\\\xcbN\\\\xd4/\\\\xee\\\\xfc\\\\xbdsO\\\\x96O.\\\\x08\\\\xa6i\\\\x1flh\\\\xeev\\\\x83\\\\x85F\\\\\\'\\\\x80M}1\\\\xfc\\\\xfas\\\\xff\\\\x00\\\\xf0eO\\\\xfc\\\\xa2\\\\xcb\\\\xc7\\\\xdf\\\\xf6Uu\\\\x1f\\\\xfd4h\\\\xf5\\\\xfa\\\\xff\\\\x00_\\\\x90\\\\x1f\\\\xf0eO\\\\xfc\\\\xa2\\\\xcb\\\\xc7\\\\xdf\\\\xf6Uu\\\\x1f\\\\xfd4h\\\\xf5\\\\xfa\\\\xff\\\\x00@\\\\x05\\\\x14Q@\\\\x05~2\\\\xff\\\\x00\\\\xc1\\\\xbb_\\\\xf2z\\\\xde(\\\\xff\\\\x00\\\\xb1\"\\\\xef\\\\xff\\\\x00K\\\\xf4\\\\xfa\\\\xfd\\\\x9a\\\\xaf\\\\xc6_\\\\xf8\\\\x87k\\\\xe3_\\\\xfd\\\\r\\\\x1f\\\\x0b\\\\x7f\\\\xf0e\\\\x7f\\\\xff\\\\x00\\\\xc8u\\\\xf3\\\\x19\\\\xf5,G\\\\xd60\\\\xf5\\\\xe8Ss\\\\xe4rm/\\\\x91\\\\xfd\\\\x05\\\\xe0\\\\xcea\\\\x92\\\\x7fbgy6s\\\\x8d\\\\x8e\\\\x17\\\\xebQ\\\\xa3\\\\x18\\\\xcaJ\\\\xfb{[\\\\xb4\\\\xae\\\\xafk\\\\xae\\\\xabp\\\\xfd\\\\xb0\\\\x7f\\\\xe5`]\\\\\\'\\\\xfe\\\\xc7\\\\x7f\\\\t\\\\x7f\\\\xe8\\\\x9d6\\\\xbe\\\\x9b\\\\xff\\\\x00\\\\x82\\\\xe7\\\\x7f\\\\xc1\\\\x0c\\\\x7f\\\\xe1\\\\xf4\\\\x7f\\\\xf0\\\\xab\\\\xbf\\\\xe2\\\\xe8\\\\xff\\\\x00\\\\xc2\\\\xb6\\\\xff\\\\x00\\\\x85m\\\\xfd\\\\xad\\\\xff\\\\x002\\\\xdf\\\\xf6\\\\xc7\\\\xf6\\\\x8f\\\\xdb\\\\xbe\\\\xc5\\\\xff\\\\x00OV\\\\xfe^\\\\xcf\\\\xb1\\\\xff\\\\x00\\\\xb5\\\\xbb\\\\xcc\\\\xfe\\\\x1d\\\\xbc\\\\xf8\\\\xbf\\\\xec\\\\xe3\\\\xff\\\\x00\\\\x04\\\\x1f\\\\xf8\\\\xbd\\\\xf0\\\\x83\\\\xf6\\\\x86\\\\xf0\\\\x1f\\\\x8bu/\\\\x11\\\\xfc8\\\\x9fN\\\\xf0\\\\xbf\\\\x88\\\\xb4\\\\xfd^\\\\xea;mB\\\\xf5\\\\xa7\\\\x92+{\\\\x98\\\\xe5u@\\\\xd6\\\\x8a\\\\xa5\\\\xca\\\\xa1\\\\xc0,\\\\x06q\\\\x92:\\\\xd7\\\\xeb=_\\\\x0fQ\\\\xaf\\\\x17^\\\\xa5x89\\\\xca\\\\xf6~g?\\\\x8d\\\\xf9\\\\xaeO\\\\x88\\\\xa7\\\\x94\\\\xe02|\\\\\\\\q1\\\\xc2\\\\xe1\\\\xe3I\\\\xca*\\\\xd7q\\\\xb4omm{^\\\\xd7v\\\\xee\\\\xcf\\\\xc0\\\\x1f\\\\xf8\\\\x81\\\\x8f\\\\xfe\\\\xae\\\\x8b\\\\xff\\\\x001\\\\xbf\\\\xff\\\\x00}(\\\\xff\\\\x00\\\\x88\\\\x18\\\\xff\\\\x00\\\\xea\\\\xe8\\\\xbf\\\\xf3\\\\x1b\\\\xff\\\\x00\\\\xf7\\\\xd2\\\\xbf\\\\x7f\\\\xa8\\\\xaf\\\\xa4?\\\\x05>@\\\\xff\\\\x00\\\\x82*\\\\x7f\\\\xc1)\\\\x7f\\\\xe1\\\\xcf\\\\x9f\\\\xb2\\\\xc6\\\\xbf\\\\xf0\\\\xd3\\\\xfe\\\\x13\\\\xdf\\\\xf8X\\\\x9f\\\\xdb\\\\x9e+\\\\xb8\\\\xf1?\\\\xf6\\\\x97\\\\xf6\\\\\\'\\\\xf6G\\\\x91\\\\xe6\\\\xdaY\\\\xdby\\\\x1eW\\\\xda\\\\\\'\\\\xdd\\\\x8f\\\\xb2n\\\\xdf\\\\xbcg\\\\xcc\\\\xc6\\\\xd1\\\\xb7\\\\\\'\\\\xeb\\\\xfa(\\\\xa0\\\\x02\\\\x8a(\\\\xa0\\\\x02\\\\x8a(\\\\xa0\\\\x02\\\\x8a(\\\\xa0\\\\x02\\\\x8a(\\\\xa0\\\\x02\\\\x8a(\\\\xa0\\\\x02\\\\x8a(\\\\xa0\\\\x0f\\\\xff\\\\xd9\\''"
      ]
     },
     "execution_count": 100,
     "metadata": {},
     "output_type": "execute_result"
    }
   ],
   "source": [
    "repr(image)"
   ]
  },
  {
   "cell_type": "code",
   "execution_count": null,
   "metadata": {},
   "outputs": [],
   "source": []
  },
  {
   "cell_type": "code",
   "execution_count": 101,
   "metadata": {},
   "outputs": [],
   "source": [
    "import re\n",
    "image = repr(image)\n",
    "image = image.replace('\\\\', ',0')"
   ]
  },
  {
   "cell_type": "code",
   "execution_count": 102,
   "metadata": {},
   "outputs": [
    {
     "data": {
      "text/plain": [
       "'b\\',0xff,0xd8,0xff,0xe0,0x00,0x10JFIF,0x00,0x01,0x01,0x01,0x00`,0x00`,0x00,0x00,0xff,0xdb,0x00C,0x00,0x02,0x01,0x01,0x02,0x01,0x01,0x02,0x02,0x02,0x02,0x02,0x02,0x02,0x02,0x03,0x05,0x03,0x03,0x03,0x03,0x03,0x06,0x04,0x04,0x03,0x05,0x07,0x06,0x07,0x07,0x07,0x06,0x07,0x07,0x08,0t,0x0b,0t,0x08,0x08,0n,0x08,0x07,0x07,0n,0r,0n,0n,0x0b,0x0c,0x0c,0x0c,0x0c,0x07,0t,0x0e,0x0f,0r,0x0c,0x0e,0x0b,0x0c,0x0c,0x0c,0xff,0xdb,0x00C,0x01,0x02,0x02,0x02,0x03,0x03,0x03,0x06,0x03,0x03,0x06,0x0c,0x08,0x07,0x08,0x0c,0x0c,0x0c,0x0c,0x0c,0x0c,0x0c,0x0c,0x0c,0x0c,0x0c,0x0c,0x0c,0x0c,0x0c,0x0c,0x0c,0x0c,0x0c,0x0c,0x0c,0x0c,0x0c,0x0c,0x0c,0x0c,0x0c,0x0c,0x0c,0x0c,0x0c,0x0c,0x0c,0x0c,0x0c,0x0c,0x0c,0x0c,0x0c,0x0c,0x0c,0x0c,0x0c,0x0c,0x0c,0x0c,0x0c,0x0c,0x0c,0x0c,0xff,0xc0,0x00,0x11,0x08,0x00J,0x00M,0x03,0x01\",0x00,0x02,0x11,0x01,0x03,0x11,0x01,0xff,0xc4,0x00,0x1f,0x00,0x00,0x01,0x05,0x01,0x01,0x01,0x01,0x01,0x01,0x00,0x00,0x00,0x00,0x00,0x00,0x00,0x00,0x01,0x02,0x03,0x04,0x05,0x06,0x07,0x08,0t,0n,0x0b,0xff,0xc4,0x00,0xb5,0x10,0x00,0x02,0x01,0x03,0x03,0x02,0x04,0x03,0x05,0x05,0x04,0x04,0x00,0x00,0x01},0x01,0x02,0x03,0x00,0x04,0x11,0x05,0x12!1A,0x06,0x13Qa,0x07\"q,0x142,0x81,0x91,0xa1,0x08#B,0xb1,0xc1,0x15R,0xd1,0xf0$3br,0x82,0t,0n,0x16,0x17,0x18,0x19,0x1a%&,0\\'()*456789:CDEFGHIJSTUVWXYZcdefghijstuvwxyz,0x83,0x84,0x85,0x86,0x87,0x88,0x89,0x8a,0x92,0x93,0x94,0x95,0x96,0x97,0x98,0x99,0x9a,0xa2,0xa3,0xa4,0xa5,0xa6,0xa7,0xa8,0xa9,0xaa,0xb2,0xb3,0xb4,0xb5,0xb6,0xb7,0xb8,0xb9,0xba,0xc2,0xc3,0xc4,0xc5,0xc6,0xc7,0xc8,0xc9,0xca,0xd2,0xd3,0xd4,0xd5,0xd6,0xd7,0xd8,0xd9,0xda,0xe1,0xe2,0xe3,0xe4,0xe5,0xe6,0xe7,0xe8,0xe9,0xea,0xf1,0xf2,0xf3,0xf4,0xf5,0xf6,0xf7,0xf8,0xf9,0xfa,0xff,0xc4,0x00,0x1f,0x01,0x00,0x03,0x01,0x01,0x01,0x01,0x01,0x01,0x01,0x01,0x01,0x00,0x00,0x00,0x00,0x00,0x00,0x01,0x02,0x03,0x04,0x05,0x06,0x07,0x08,0t,0n,0x0b,0xff,0xc4,0x00,0xb5,0x11,0x00,0x02,0x01,0x02,0x04,0x04,0x03,0x04,0x07,0x05,0x04,0x04,0x00,0x01,0x02w,0x00,0x01,0x02,0x03,0x11,0x04,0x05!1,0x06,0x12AQ,0x07aq,0x13\"2,0x81,0x08,0x14B,0x91,0xa1,0xb1,0xc1,0t#3R,0xf0,0x15br,0xd1,0n,0x16$4,0xe1%,0xf1,0x17,0x18,0x19,0x1a&,0\\'()*56789:CDEFGHIJSTUVWXYZcdefghijstuvwxyz,0x82,0x83,0x84,0x85,0x86,0x87,0x88,0x89,0x8a,0x92,0x93,0x94,0x95,0x96,0x97,0x98,0x99,0x9a,0xa2,0xa3,0xa4,0xa5,0xa6,0xa7,0xa8,0xa9,0xaa,0xb2,0xb3,0xb4,0xb5,0xb6,0xb7,0xb8,0xb9,0xba,0xc2,0xc3,0xc4,0xc5,0xc6,0xc7,0xc8,0xc9,0xca,0xd2,0xd3,0xd4,0xd5,0xd6,0xd7,0xd8,0xd9,0xda,0xe2,0xe3,0xe4,0xe5,0xe6,0xe7,0xe8,0xe9,0xea,0xf2,0xf3,0xf4,0xf5,0xf6,0xf7,0xf8,0xf9,0xfa,0xff,0xda,0x00,0x0c,0x03,0x01,0x00,0x02,0x11,0x03,0x11,0x00?,0x00,0xfd,0xfc,0xa2,0x8a,0xf8,0\\',0xfe\"%,0xf8),0xff,0x00B,0xbf,0xc5/,0xfc,0x16,0xd8,0x7f,0xf2erb,0xb1,0xf8|5,0xbd,0xbc,0xd4o,0xb5,0xcf,0xa7,0xe1,0xce,0x0c,0xce,0xf3,0xff,0x00i,0xfd,0x8d,0x86,0x95ognn^,0x9c,0xd7,0xb5,0xfdy_,0xdc},0xedE|Q,0xf0,0xab,0xfe,0x0b,0xc1,0xf0,0x8b,0xe2,0xff,0x00,0xc5,0x0f,0r,0xf8KM,0xf0,0xe7,0xc4,0x885,0x1f,0x14j,0xb6,0xbaE,0xac,0x97:},0x92,0xc1,0x1c,0xb7,0x12,0xacH,0xceV,0xed,0x98(g,0x19!I,0xc6p,0x0fJ,0xfb^,0x9e,0x17,0x1bC,0x12,0x9c,0xa8II.,0xc6,0,0E,0xc2Y,0xc6CR,0x14s,0x8c<,0xa8,0xcaj,0xe9K,0xaaZ,0,0(,0xa2,0x8a,0xea>t(,0xa2,0x8a,0x00(,0xa2,0x8a,0x00+,0xf0,0x9f,0xfe,0x08,0xc7,0xfb1x,0x1b,0xf6,0xb0,0xfd,0xa8u,0xef,0x0e,0xf8,0xff,0x00D,0xfe,0xdf,0xd1,0xac,0xbc-q,0xa9Co,0xf6,0xcb,0x8b],0x97,0x0bwg,0x1a,0xbe,0xe8,0x1d,0x18,0xe1%,0x90`,0x9c|,0xdd2,0x06?v+,0xf1,0x97,0xfe,0r,0xda,0xff,0x00,0x93,0xd6,0xf1G,0xfd,0x89,0x17,0x7f,0xfa_,0xa7,0xd7,0xca,0xe7,0xb4,0xe3S,0x1d,0x84,0x84,0xd5,0xd3r,0xd1,0xff,0x00,0xdb,0xa7,0xf4g,0x83,0xb8,0xdcN,0x0f,0x83,0xf8,0x9b,0x13,0x84,0xa9*u#N,0x83R,0x8bq,0x92w,0xab,0xaaj,0xcd?C,0x96,0xf8,0xb1,0xf0[,0xc3?,0xb3,0xc7,0xfc,0x16,0xeb,0xc2,0xde,0x0f,0xf0~,0x9b,0xfd,0x91,0xe1,0xcd#,0xc6,0xfe,0x16,0xfb%,0xa7,0xda%,0xb8,0xf2|,0xd1a3,0xfc,0xf2,0xb39,0xcc,0x929,0xe5,0x8e3,0x81,0xc0,0x02,0xbd,0x13,0xfe,0x0e,0xb5,0xff,0x00,0x82,0xa3,0xfcv,0xff,0x00,0x82k,0xff,0x00,0xc2,0x86,0xff,0x00,0x85+,0xe3,0x9f,0xf8B,0xff,0x00,0xe14,0xff,0x00,0x84,0x87,0xfbg,0xfe$,0xba~,0xa3,0xf6,0xcf,0xb2,0xff,0x00e,0xf9,0x1f,0xf1,0xf7,0x04,0xbb6,0xfd,0xa2o,0xb9,0xb7;,0xf9,0xce,0x061?l,0x1f,0xf9X,0x17I,0xff,0x00,0xb1,0xdf,0xc2_,0xfa,0\\'M,0xaf,0x1b,0xff,0x00,0x83,0xe7?,0xe6,0xd7,0x7f,0xeek,0xff,0x00,0xdc-W,0x0eF1,0xab,0x8a,0x8cU,0x92,0xa8,0xff,0x00S?,0x1d,0xb15,0xb1,0x19w,0x0fb1,0x12s,0x9c,0xf0t,0xdc,0xa4,0xdbm,0xb7,0x18,0xb6,0xdbz,0xb6,0xde,0xad,0xbd[>p,0xf0,0x9f,0xfc,0x15c,0xfe,0n,0xfb,0xe3,0xdf,0n,0xe9,0xba,0xee,0x85,0xa7,0xfco,0xd6,0xb4Mj,0xd2+,0xfd?P,0xb0,0xf8#gsk,0x7fo*,0x07,0x8ah,0xa5M(,0xa4,0x91,0xba2,0xb2,0xb2,0x92,0x18,0x10A ,0xd6,0x7f,0xc5/,0xf8,,0\\',0xfc,0x15,0xa3,0xe0w,0x81/,0xbcS,0xe3V,0xf8,0xbf,0xe0,0xff,0x00,0x0c,0xe9~_,0xdb5}o,0xe0,0xd5,0x86,0x9fai,0xe6H,0xb1G,0xe6O.,0x96,0xb1,0xa6,0xe9,0x1d,0x10n#,,0xea,0x07$,0n,0xfe,0x87,0x7f,0xe0,0x93,0xbf,0xf2,0x8b/,0xd9,0xa7,0xfe,0xc9W,0x85,0xff,0x00,0xf4,0xd1k^,0x01,0xff,0x00,0x07G,0x7f,0xca,0n>9,0xff,0x00,0xdc,0x03,0xff,0x00R,0r2,0xbe,0xa0,0xfew9,0xff,0x00,0xf85,0xff,0x00,0xf6,0xf5,0xf8,0xb1,0xff,0x00,0x05,0x11,0xfd,0x81|],0xe3_,0x8c^+,0xff,0x00,0x84,0xc3,0xc4,0xda_,0xc4,0x0b,0xcd,0x12,0xd6,0xf3,0xfb2,0xcfO,0xf2,0xac,0xe3,0xd3,0xb4,0xd9,0x92/.,0xd6(,0xa38,0x92,0xe2f,0xdcT,0xb7,0xcf,0x82p,0x00,0x1f,0xa3,0xf5,0xf9,0x01,0xff,0x00,0x06T,0xff,0x00,0xca,,0xbc},0xff,0x00eWQ,0xff,0x00,0xd3F,0x8f_,0xaf,0xf4,0x00QE,0x14,0x00W,0xe3/,0xfc,0x1b,0xb5,0xff,0x00,0\\',0xad,0xe2,0x8f,0xfb,0x12.,0xff,0x00,0xf4,0xbfO,0xaf,0xd9,0xaa,0xfce,0xff,0x00,0x83v,0xbf,0xe4,0xf5,0xbcQ,0xff,0x00bE,0xdf,0xfe,0x97,0xe9,0xf5,0xf3,0x19,0xd7,0xfc,0x8c0~,0xb2,0xff,0x00,0xdbO,0xe8/,0n,0x7f,0xe4,0x88,0xe2,0x8f,0xfa,0xf7C,0xf3,0xaa,0x1f,0xb6,0x0f,0xfc,0xac,0x0b,0xa4,0xff,0x00,0xd8,0xef,0xe1/,0xfd,0x13,0xa6,0xd7,0x8d,0xff,0x00,0xc1,0xf3,0x9f,0xf3k,0xbf,0xf75,0xff,0x00,0xee,0x16,0xbd,0x93,0xf6,0xc1,0xff,0x00,0x95,0x81t,0x9f,0xfb,0x1d,0xfc%,0xff,0x00,0xa2t,0xda,0xf1,0xbf,0xf8>s,0xfemw,0xfe,0xe6,0xbf,0xfd,0xc2,0xd3,0xe1,0xff,0x00,0xe3,0xe2,0xbf,0xeb,0xe3,0xfc,0xd8x,0xdb,0xff,0x00\",0x8e,0x1b,0xff,0x00,0xb0*,0x7f,0xfaL,0x0f,0xd7,0xef,0xf8$,0xef,0xfc,0xa2,0xcb,0xf6i,0xff,0x00,0xb2U,0xe1,0x7f,0xfd4Z,0xd7,0x80,0x7f,0xc1,0xd1,0xdf,0xf2,0x82,0x8f,0x8e,0x7f,0xf7,0x00,0xff,0x00,0xd4,0x83L,0xad,0x0f,0xf8&W,0xfc,0x14,0xdb,0xf6n,0xf0,0x17,0xfc,0x13o,0xf6|,0xd0,0xb5,0xdf,0xda,0x0f,0xe0,0x86,0x8b,0xad,0xe8,0xbf,0r|9a,0xa8i,0xf7,0xfe:,0xd2,0xed,0xae,0xac.\",0xd2,0xed,0x92Xe,0x89,0xe7,0x0f,0x1c,0x88,0xea,0xca,0xca,0xc0,0x15 ,0x82,0x01,0x15,0xe1,0xff,0x00,0xf0q,0xe7,0xfc,0x14,0\\',0xe0,0x17,0xc7,0x1f,0xf8#,0x1f,0xc6O,0x0bx+,0xe3,0x87,0xc2,0x0f,0x18x,0x9bT,0xfe,0xc4,0xfb,0x1e,0x91,0xa2x,0xcbN,0xd4/,0xee,0xfc,0xbdsO,0x96O.,0x08,0xa6i,0x1flh,0xeev,0x83,0x85F,0\\',0x80M}1,0xfc,0xfas,0xff,0x00,0xf0eO,0xfc,0xa2,0xcb,0xc7,0xdf,0xf6Uu,0x1f,0xfd4h,0xf5,0xfa,0xff,0x00_,0x90,0x1f,0xf0eO,0xfc,0xa2,0xcb,0xc7,0xdf,0xf6Uu,0x1f,0xfd4h,0xf5,0xfa,0xff,0x00@,0x05,0x14Q@,0x05~2,0xff,0x00,0xc1,0xbb_,0xf2z,0xde(,0xff,0x00,0xb1\",0xef,0xff,0x00K,0xf4,0xfa,0xfd,0x9a,0xaf,0xc6_,0xf8,0x87k,0xe3_,0xfd,0r,0x1f,0x0b,0x7f,0xf0e,0x7f,0xff,0x00,0xc8u,0xf3,0x19,0xf5,G,0xd60,0xf5,0xe8Ss,0xe4rm/,0x91,0xfd,0x05,0xe0,0xcea,0x92,0x7fbgy6s,0x8d,0x8e,0x17,0xebQ,0xa3,0x18,0xcaJ,0xfb{[,0xb4,0xae,0xafk,0xae,0xabp,0xfd,0xb0,0x7f,0xe5`],0\\',0xfe,0xc7,0x7f,0t,0x7f,0xe8,0x9d6,0xbe,0x9b,0xff,0x00,0x82,0xe7,0x7f,0xc1,0x0c,0x7f,0xe1,0xf4,0x7f,0xf0,0xab,0xbf,0xe2,0xe8,0xff,0x00,0xc2,0xb6,0xff,0x00,0x85m,0xfd,0xad,0xff,0x002,0xdf,0xf6,0xc7,0xf6,0x8f,0xdb,0xbe,0xc5,0xff,0x00OV,0xfe^,0xcf,0xb1,0xff,0x00,0xb5,0xbb,0xcc,0xfe,0x1d,0xbc,0xf8,0xbf,0xec,0xe3,0xff,0x00,0x04,0x1f,0xf8,0xbd,0xf0,0x83,0xf6,0x86,0xf0,0x1f,0x8bu/,0x11,0xfc8,0x9fN,0xf0,0xbf,0x88,0xb4,0xfd^,0xea;mB,0xf5,0xa7,0x92+{,0x98,0xe5u@,0xd6,0x8a,0xa5,0xca,0xa1,0xc0,,0x06q,0x92:,0xd7,0xeb=_,0x0fQ,0xaf,0x17^,0xa5x89,0xca,0xf6~g?,0x8d,0xf9,0xaeO,0x88,0xa7,0x94,0xe02|,0,0q1,0xc2,0xe1,0xe3I,0xca*,0xd7q,0xb4omm{^,0xd7v,0xee,0xcf,0xc0,0x1f,0xf8,0x81,0x8f,0xfe,0xae,0x8b,0xff,0x001,0xbf,0xff,0x00}(,0xff,0x00,0x88,0x18,0xff,0x00,0xea,0xe8,0xbf,0xf3,0x1b,0xff,0x00,0xf7,0xd2,0xbf,0x7f,0xa8,0xaf,0xa4?,0x05>@,0xff,0x00,0x82*,0x7f,0xc1),0x7f,0xe1,0xcf,0x9f,0xb2,0xc6,0xbf,0xf0,0xd3,0xfe,0x13,0xdf,0xf8X,0x9f,0xdb,0x9e+,0xb8,0xf1?,0xf6,0x97,0xf6,0\\',0xf6G,0x91,0xe6,0xdaY,0xdby,0x1eW,0xda,0\\',0xdd,0x8f,0xb2n,0xdf,0xbcg,0xcc,0xc6,0xd1,0xb7,0\\',0xeb,0xfa(,0xa0,0x02,0x8a(,0xa0,0x02,0x8a(,0xa0,0x02,0x8a(,0xa0,0x02,0x8a(,0xa0,0x02,0x8a(,0xa0,0x02,0x8a(,0xa0,0x0f,0xff,0xd9\\''"
      ]
     },
     "execution_count": 102,
     "metadata": {},
     "output_type": "execute_result"
    }
   ],
   "source": [
    "image"
   ]
  },
  {
   "cell_type": "code",
   "execution_count": 106,
   "metadata": {},
   "outputs": [
    {
     "data": {
      "text/plain": [
       "223"
      ]
     },
     "execution_count": 106,
     "metadata": {},
     "output_type": "execute_result"
    }
   ],
   "source": [
    "int('0xdf', 16)"
   ]
  },
  {
   "cell_type": "code",
   "execution_count": 63,
   "metadata": {},
   "outputs": [
    {
     "ename": "UnicodeDecodeError",
     "evalue": "'utf-8' codec can't decode byte 0xff in position 0: invalid start byte",
     "output_type": "error",
     "traceback": [
      "\u001b[1;31m---------------------------------------------------------------------------\u001b[0m",
      "\u001b[1;31mUnicodeDecodeError\u001b[0m                        Traceback (most recent call last)",
      "\u001b[1;32m<ipython-input-63-03bc3f26a2cc>\u001b[0m in \u001b[0;36m<module>\u001b[1;34m\u001b[0m\n\u001b[1;32m----> 1\u001b[1;33m \u001b[0mstr\u001b[0m\u001b[1;33m(\u001b[0m\u001b[0mimage\u001b[0m\u001b[1;33m,\u001b[0m \u001b[0mencoding\u001b[0m\u001b[1;33m=\u001b[0m\u001b[1;34m\"utf-8\"\u001b[0m\u001b[1;33m)\u001b[0m\u001b[1;33m\u001b[0m\u001b[1;33m\u001b[0m\u001b[0m\n\u001b[0m",
      "\u001b[1;31mUnicodeDecodeError\u001b[0m: 'utf-8' codec can't decode byte 0xff in position 0: invalid start byte"
     ]
    }
   ],
   "source": [
    "str(image, encoding=\"utf-8\")"
   ]
  },
  {
   "cell_type": "code",
   "execution_count": 77,
   "metadata": {},
   "outputs": [
    {
     "ename": "TypeError",
     "evalue": "descriptor 'decode' requires a 'bytes' object but received a 'str'",
     "output_type": "error",
     "traceback": [
      "\u001b[1;31m---------------------------------------------------------------------------\u001b[0m",
      "\u001b[1;31mTypeError\u001b[0m                                 Traceback (most recent call last)",
      "\u001b[1;32m<ipython-input-77-95cea0316504>\u001b[0m in \u001b[0;36m<module>\u001b[1;34m\u001b[0m\n\u001b[0;32m      1\u001b[0m \u001b[1;31m# str(image, encoding=\"utf-8\")\u001b[0m\u001b[1;33m\u001b[0m\u001b[1;33m\u001b[0m\u001b[1;33m\u001b[0m\u001b[0m\n\u001b[1;32m----> 2\u001b[1;33m \u001b[0ma\u001b[0m\u001b[1;33m=\u001b[0m\u001b[0mbytes\u001b[0m\u001b[1;33m.\u001b[0m\u001b[0mdecode\u001b[0m\u001b[1;33m(\u001b[0m\u001b[0mrepr\u001b[0m\u001b[1;33m(\u001b[0m\u001b[0mimage\u001b[0m\u001b[1;33m)\u001b[0m\u001b[1;33m)\u001b[0m\u001b[1;33m\u001b[0m\u001b[1;33m\u001b[0m\u001b[0m\n\u001b[0m",
      "\u001b[1;31mTypeError\u001b[0m: descriptor 'decode' requires a 'bytes' object but received a 'str'"
     ]
    }
   ],
   "source": [
    "# str(image, encoding=\"utf-8\")\n",
    "repr(image)\n",
    "a=bytes.decode(repr(image))"
   ]
  },
  {
   "cell_type": "code",
   "execution_count": 60,
   "metadata": {},
   "outputs": [
    {
     "data": {
      "text/plain": [
       "223"
      ]
     },
     "execution_count": 60,
     "metadata": {},
     "output_type": "execute_result"
    }
   ],
   "source": [
    "int(a,16)"
   ]
  },
  {
   "cell_type": "code",
   "execution_count": 3,
   "metadata": {},
   "outputs": [
    {
     "ename": "UnicodeDecodeError",
     "evalue": "'utf-16-le' codec can't decode bytes in position 0-1: illegal UTF-16 surrogate",
     "output_type": "error",
     "traceback": [
      "\u001b[1;31m---------------------------------------------------------------------------\u001b[0m",
      "\u001b[1;31mUnicodeDecodeError\u001b[0m                        Traceback (most recent call last)",
      "\u001b[1;32m<ipython-input-3-1ffff0e99f8a>\u001b[0m in \u001b[0;36m<module>\u001b[1;34m\u001b[0m\n\u001b[1;32m----> 1\u001b[1;33m \u001b[0mimage\u001b[0m\u001b[1;33m.\u001b[0m\u001b[0mdecode\u001b[0m\u001b[1;33m(\u001b[0m\u001b[1;34m\"utf-16\"\u001b[0m\u001b[1;33m)\u001b[0m\u001b[1;33m\u001b[0m\u001b[1;33m\u001b[0m\u001b[0m\n\u001b[0m",
      "\u001b[1;31mUnicodeDecodeError\u001b[0m: 'utf-16-le' codec can't decode bytes in position 0-1: illegal UTF-16 surrogate"
     ]
    }
   ],
   "source": [
    "image.decode(\"utf-16\")"
   ]
  },
  {
   "cell_type": "code",
   "execution_count": 22,
   "metadata": {},
   "outputs": [
    {
     "data": {
      "text/plain": [
       "bytes"
      ]
     },
     "execution_count": 22,
     "metadata": {},
     "output_type": "execute_result"
    }
   ],
   "source": [
    "type(image)"
   ]
  },
  {
   "cell_type": "code",
   "execution_count": 18,
   "metadata": {},
   "outputs": [
    {
     "ename": "ValueError",
     "evalue": "invalid literal for int() with base 16: b'\\xff\\xd8\\xff\\xe0\\x00\\x10JFIF\\x00\\x01\\x01\\x01\\x00`\\x00`\\x00\\x00\\xff\\xdb\\x00C\\x00\\x02\\x01\\x01\\x02\\x01\\x01\\x02\\x02\\x02\\x02\\x02\\x02\\x02\\x02\\x03\\x05\\x03\\x03\\x03\\x03\\x03\\x06\\x04\\x04\\x03\\x05\\x07\\x06\\x07\\x0",
     "output_type": "error",
     "traceback": [
      "\u001b[1;31m---------------------------------------------------------------------------\u001b[0m",
      "\u001b[1;31mValueError\u001b[0m                                Traceback (most recent call last)",
      "\u001b[1;32m<ipython-input-18-1fe6d9c61f81>\u001b[0m in \u001b[0;36m<module>\u001b[1;34m\u001b[0m\n\u001b[1;32m----> 1\u001b[1;33m \u001b[0mint\u001b[0m\u001b[1;33m(\u001b[0m\u001b[0mimage\u001b[0m\u001b[1;33m,\u001b[0m \u001b[1;36m16\u001b[0m\u001b[1;33m)\u001b[0m\u001b[1;33m\u001b[0m\u001b[1;33m\u001b[0m\u001b[0m\n\u001b[0m",
      "\u001b[1;31mValueError\u001b[0m: invalid literal for int() with base 16: b'\\xff\\xd8\\xff\\xe0\\x00\\x10JFIF\\x00\\x01\\x01\\x01\\x00`\\x00`\\x00\\x00\\xff\\xdb\\x00C\\x00\\x02\\x01\\x01\\x02\\x01\\x01\\x02\\x02\\x02\\x02\\x02\\x02\\x02\\x02\\x03\\x05\\x03\\x03\\x03\\x03\\x03\\x06\\x04\\x04\\x03\\x05\\x07\\x06\\x07\\x0"
     ]
    }
   ],
   "source": [
    "int(image, 16)"
   ]
  },
  {
   "cell_type": "code",
   "execution_count": 14,
   "metadata": {},
   "outputs": [
    {
     "ename": "TypeError",
     "evalue": "cannot use a string pattern on a bytes-like object",
     "output_type": "error",
     "traceback": [
      "\u001b[1;31m---------------------------------------------------------------------------\u001b[0m",
      "\u001b[1;31mTypeError\u001b[0m                                 Traceback (most recent call last)",
      "\u001b[1;32m<ipython-input-14-4ae66c211c81>\u001b[0m in \u001b[0;36m<module>\u001b[1;34m\u001b[0m\n\u001b[0;32m      1\u001b[0m \u001b[1;32mimport\u001b[0m \u001b[0mre\u001b[0m\u001b[1;33m\u001b[0m\u001b[1;33m\u001b[0m\u001b[0m\n\u001b[1;32m----> 2\u001b[1;33m \u001b[0mimage_sub\u001b[0m \u001b[1;33m=\u001b[0m \u001b[0mre\u001b[0m\u001b[1;33m.\u001b[0m\u001b[0msub\u001b[0m\u001b[1;33m(\u001b[0m\u001b[1;34m'b\\\\\\\\'\u001b[0m\u001b[1;33m,\u001b[0m\u001b[1;34m'0'\u001b[0m\u001b[1;33m,\u001b[0m\u001b[0mimage\u001b[0m\u001b[1;33m)\u001b[0m\u001b[1;33m\u001b[0m\u001b[1;33m\u001b[0m\u001b[0m\n\u001b[0m",
      "\u001b[1;32m~\\Anaconda3\\lib\\re.py\u001b[0m in \u001b[0;36msub\u001b[1;34m(pattern, repl, string, count, flags)\u001b[0m\n\u001b[0;32m    190\u001b[0m     \u001b[0ma\u001b[0m \u001b[0mcallable\u001b[0m\u001b[1;33m,\u001b[0m \u001b[0mit\u001b[0m\u001b[0;31m'\u001b[0m\u001b[0ms\u001b[0m \u001b[0mpassed\u001b[0m \u001b[0mthe\u001b[0m \u001b[0mMatch\u001b[0m \u001b[0mobject\u001b[0m \u001b[1;32mand\u001b[0m \u001b[0mmust\u001b[0m \u001b[1;32mreturn\u001b[0m\u001b[1;33m\u001b[0m\u001b[1;33m\u001b[0m\u001b[0m\n\u001b[0;32m    191\u001b[0m     a replacement string to be used.\"\"\"\n\u001b[1;32m--> 192\u001b[1;33m     \u001b[1;32mreturn\u001b[0m \u001b[0m_compile\u001b[0m\u001b[1;33m(\u001b[0m\u001b[0mpattern\u001b[0m\u001b[1;33m,\u001b[0m \u001b[0mflags\u001b[0m\u001b[1;33m)\u001b[0m\u001b[1;33m.\u001b[0m\u001b[0msub\u001b[0m\u001b[1;33m(\u001b[0m\u001b[0mrepl\u001b[0m\u001b[1;33m,\u001b[0m \u001b[0mstring\u001b[0m\u001b[1;33m,\u001b[0m \u001b[0mcount\u001b[0m\u001b[1;33m)\u001b[0m\u001b[1;33m\u001b[0m\u001b[1;33m\u001b[0m\u001b[0m\n\u001b[0m\u001b[0;32m    193\u001b[0m \u001b[1;33m\u001b[0m\u001b[0m\n\u001b[0;32m    194\u001b[0m \u001b[1;32mdef\u001b[0m \u001b[0msubn\u001b[0m\u001b[1;33m(\u001b[0m\u001b[0mpattern\u001b[0m\u001b[1;33m,\u001b[0m \u001b[0mrepl\u001b[0m\u001b[1;33m,\u001b[0m \u001b[0mstring\u001b[0m\u001b[1;33m,\u001b[0m \u001b[0mcount\u001b[0m\u001b[1;33m=\u001b[0m\u001b[1;36m0\u001b[0m\u001b[1;33m,\u001b[0m \u001b[0mflags\u001b[0m\u001b[1;33m=\u001b[0m\u001b[1;36m0\u001b[0m\u001b[1;33m)\u001b[0m\u001b[1;33m:\u001b[0m\u001b[1;33m\u001b[0m\u001b[1;33m\u001b[0m\u001b[0m\n",
      "\u001b[1;31mTypeError\u001b[0m: cannot use a string pattern on a bytes-like object"
     ]
    }
   ],
   "source": [
    "import re\n",
    "image_sub = re.sub('b\\\\\\\\','0',image)"
   ]
  },
  {
   "cell_type": "code",
   "execution_count": 22,
   "metadata": {},
   "outputs": [
    {
     "ename": "ValueError",
     "evalue": "invalid literal for int() with base 16: 'ÿØÿà\\x00\\x10JFIF\\x00\\x01\\x01\\x01\\x00`\\x00`\\x00\\x00ÿÛ\\x00C\\x00\\x02\\x01\\x01\\x02\\x01\\x01\\x02\\x02\\x02\\x02\\x02\\x02\\x02\\x02\\x03\\x05\\x03\\x03\\x03\\x03\\x03\\x06\\x04\\x04\\x03\\x05\\x07\\x06\\x07\\x07\\x07\\x06\\x07\\x07\\x",
     "output_type": "error",
     "traceback": [
      "\u001b[1;31m---------------------------------------------------------------------------\u001b[0m",
      "\u001b[1;31mValueError\u001b[0m                                Traceback (most recent call last)",
      "\u001b[1;32m<ipython-input-22-02b08e6bbc10>\u001b[0m in \u001b[0;36m<module>\u001b[1;34m\u001b[0m\n\u001b[0;32m      3\u001b[0m \u001b[0mstr\u001b[0m\u001b[1;33m(\u001b[0m\u001b[0mimage\u001b[0m\u001b[1;33m)\u001b[0m\u001b[1;33m\u001b[0m\u001b[1;33m\u001b[0m\u001b[0m\n\u001b[0;32m      4\u001b[0m \u001b[1;31m#codecs.decode(a, \"hex\")\u001b[0m\u001b[1;33m\u001b[0m\u001b[1;33m\u001b[0m\u001b[1;33m\u001b[0m\u001b[0m\n\u001b[1;32m----> 5\u001b[1;33m \u001b[0mint\u001b[0m\u001b[1;33m(\u001b[0m\u001b[0ma\u001b[0m\u001b[1;33m,\u001b[0m\u001b[1;36m16\u001b[0m\u001b[1;33m)\u001b[0m\u001b[1;33m\u001b[0m\u001b[1;33m\u001b[0m\u001b[0m\n\u001b[0m",
      "\u001b[1;31mValueError\u001b[0m: invalid literal for int() with base 16: 'ÿØÿà\\x00\\x10JFIF\\x00\\x01\\x01\\x01\\x00`\\x00`\\x00\\x00ÿÛ\\x00C\\x00\\x02\\x01\\x01\\x02\\x01\\x01\\x02\\x02\\x02\\x02\\x02\\x02\\x02\\x02\\x03\\x05\\x03\\x03\\x03\\x03\\x03\\x06\\x04\\x04\\x03\\x05\\x07\\x06\\x07\\x07\\x07\\x06\\x07\\x07\\x"
     ]
    }
   ],
   "source": [
    "import codecs\n",
    "a='\\xff\\xd8\\xff\\xe0\\x00\\x10JFIF\\x00\\x01\\x01\\x01\\x00`\\x00`\\x00\\x00\\xff\\xdb\\x00C\\x00\\x02\\x01\\x01\\x02\\x01\\x01\\x02\\x02\\x02\\x02\\x02\\x02\\x02\\x02\\x03\\x05\\x03\\x03\\x03\\x03\\x03\\x06\\x04\\x04\\x03\\x05\\x07\\x06\\x07\\x07\\x07\\x06\\x07\\x07\\x08\\t\\x0b\\t\\x08\\x08\\n\\x08\\x07\\x07\\n\\r\\n\\n\\x0b\\x0c\\x0c\\x0c\\x0c\\x07\\t\\x0e\\x0f\\r\\x0c\\x0e\\x0b\\x0c\\x0c\\x0c\\xff\\xdb\\x00C\\x01\\x02\\x02\\x02\\x03\\x03\\x03\\x06\\x03\\x03\\x06\\x0c\\x08\\x07\\x08\\x0c\\x0c\\x0c\\x0c\\x0c\\x0c\\x0c\\x0c\\x0c\\x0c\\x0c\\x0c\\x0c\\x0c\\x0c\\x0c\\x0c\\x0c\\x0c\\x0c\\x0c\\x0c\\x0c\\x0c\\x0c\\x0c\\x0c\\x0c\\x0c\\x0c\\x0c\\x0c\\x0c\\x0c\\x0c\\x0c\\x0c\\x0c\\x0c\\x0c\\x0c\\x0c\\x0c\\x0c\\x0c\\x0c\\x0c\\x0c\\x0c\\x0c\\xff\\xc0\\x00\\x11\\x08\\x00J\\x00M\\x03\\x01\"\\x00\\x02\\x11\\x01\\x03\\x11\\x01\\xff\\xc4\\x00\\x1f\\x00\\x00\\x01\\x05\\x01\\x01\\x01\\x01\\x01\\x01\\x00\\x00\\x00\\x00\\x00\\x00\\x00\\x00\\x01\\x02\\x03\\x04\\x05\\x06\\x07\\x08\\t\\n\\x0b\\xff\\xc4\\x00\\xb5\\x10\\x00\\x02\\x01\\x03\\x03\\x02\\x04\\x03\\x05\\x05\\x04\\x04\\x00\\x00\\x01}\\x01\\x02\\x03\\x00\\x04\\x11\\x05\\x12!1A\\x06\\x13Qa\\x07\"q\\x142\\x81\\x91\\xa1\\x08#B\\xb1\\xc1\\x15R\\xd1\\xf0$3br\\x82\\t\\n\\x16\\x17\\x18\\x19\\x1a%&\\'()*456789:CDEFGHIJSTUVWXYZcdefghijstuvwxyz\\x83\\x84\\x85\\x86\\x87\\x88\\x89\\x8a\\x92\\x93\\x94\\x95\\x96\\x97\\x98\\x99\\x9a\\xa2\\xa3\\xa4\\xa5\\xa6\\xa7\\xa8\\xa9\\xaa\\xb2\\xb3\\xb4\\xb5\\xb6\\xb7\\xb8\\xb9\\xba\\xc2\\xc3\\xc4\\xc5\\xc6\\xc7\\xc8\\xc9\\xca\\xd2\\xd3\\xd4\\xd5\\xd6\\xd7\\xd8\\xd9\\xda\\xe1\\xe2\\xe3\\xe4\\xe5\\xe6\\xe7\\xe8\\xe9\\xea\\xf1\\xf2\\xf3\\xf4\\xf5\\xf6\\xf7\\xf8\\xf9\\xfa\\xff\\xc4\\x00\\x1f\\x01\\x00\\x03\\x01\\x01\\x01\\x01\\x01\\x01\\x01\\x01\\x01\\x00\\x00\\x00\\x00\\x00\\x00\\x01\\x02\\x03\\x04\\x05\\x06\\x07\\x08\\t\\n\\x0b\\xff\\xc4\\x00\\xb5\\x11\\x00\\x02\\x01\\x02\\x04\\x04\\x03\\x04\\x07\\x05\\x04\\x04\\x00\\x01\\x02w\\x00\\x01\\x02\\x03\\x11\\x04\\x05!1\\x06\\x12AQ\\x07aq\\x13\"2\\x81\\x08\\x14B\\x91\\xa1\\xb1\\xc1\\t#3R\\xf0\\x15br\\xd1\\n\\x16$4\\xe1%\\xf1\\x17\\x18\\x19\\x1a&\\'()*56789:CDEFGHIJSTUVWXYZcdefghijstuvwxyz\\x82\\x83\\x84\\x85\\x86\\x87\\x88\\x89\\x8a\\x92\\x93\\x94\\x95\\x96\\x97\\x98\\x99\\x9a\\xa2\\xa3\\xa4\\xa5\\xa6\\xa7\\xa8\\xa9\\xaa\\xb2\\xb3\\xb4\\xb5\\xb6\\xb7\\xb8\\xb9\\xba\\xc2\\xc3\\xc4\\xc5\\xc6\\xc7\\xc8\\xc9\\xca\\xd2\\xd3\\xd4\\xd5\\xd6\\xd7\\xd8\\xd9\\xda\\xe2\\xe3\\xe4\\xe5\\xe6\\xe7\\xe8\\xe9\\xea\\xf2\\xf3\\xf4\\xf5\\xf6\\xf7\\xf8\\xf9\\xfa\\xff\\xda\\x00\\x0c\\x03\\x01\\x00\\x02\\x11\\x03\\x11\\x00?\\x00\\xfd\\xfc\\xa2\\x8a\\xf8\\'\\xfe\"%\\xf8)\\xff\\x00B\\xbf\\xc5/\\xfc\\x16\\xd8\\x7f\\xf2erb\\xb1\\xf8|5\\xbd\\xbc\\xd4o\\xb5\\xcf\\xa7\\xe1\\xce\\x0c\\xce\\xf3\\xff\\x00i\\xfd\\x8d\\x86\\x95ognn^\\x9c\\xd7\\xb5\\xfdy_\\xdc}\\xedE|Q\\xf0\\xab\\xfe\\x0b\\xc1\\xf0\\x8b\\xe2\\xff\\x00\\xc5\\x0f\\r\\xf8KM\\xf0\\xe7\\xc4\\x885\\x1f\\x14j\\xb6\\xbaE\\xac\\x97:}\\x92\\xc1\\x1c\\xb7\\x12\\xacH\\xceV\\xed\\x98(g\\x19!I\\xc6p\\x0fJ\\xfb^\\x9e\\x17\\x1bC\\x12\\x9c\\xa8II.\\xc60E\\xc2Y\\xc6CR\\x14s\\x8c<\\xa8\\xcaj\\xe9K\\xaaZ0(\\xa2\\x8a\\xea>t(\\xa2\\x8a\\x00(\\xa2\\x8a\\x00+\\xf0\\x9f\\xfe\\x08\\xc7\\xfb1x\\x1b\\xf6\\xb0\\xfd\\xa8u\\xef\\x0e\\xf8\\xff\\x00D\\xfe\\xdf\\xd1\\xac\\xbc-q\\xa9Co\\xf6\\xcb\\x8b]\\x97\\x0bwg\\x1a\\xbe\\xe8\\x1d\\x18\\xe1%\\x90`\\x9c|\\xdd2\\x06?v+\\xf1\\x97\\xfe\\r\\xda\\xff\\x00\\x93\\xd6\\xf1G\\xfd\\x89\\x17\\x7f\\xfa_\\xa7\\xd7\\xca\\xe7\\xb4\\xe3S\\x1d\\x84\\x84\\xd5\\xd3r\\xd1\\xff\\x00\\xdb\\xa7\\xf4g\\x83\\xb8\\xdcN\\x0f\\x83\\xf8\\x9b\\x13\\x84\\xa9*u#N\\x83R\\x8bq\\x92w\\xab\\xaaj\\xcd?C\\x96\\xf8\\xb1\\xf0[\\xc3?\\xb3\\xc7\\xfc\\x16\\xeb\\xc2\\xde\\x0f\\xf0~\\x9b\\xfd\\x91\\xe1\\xcd#\\xc6\\xfe\\x16\\xfb%\\xa7\\xda%\\xb8\\xf2|\\xd1a3\\xfc\\xf2\\xb39\\xcc\\x929\\xe5\\x8e3\\x81\\xc0\\x02\\xbd\\x13\\xfe\\x0e\\xb5\\xff\\x00\\x82\\xa3\\xfcv\\xff\\x00\\x82k\\xff\\x00\\xc2\\x86\\xff\\x00\\x85+\\xe3\\x9f\\xf8B\\xff\\x00\\xe14\\xff\\x00\\x84\\x87\\xfbg\\xfe$\\xba~\\xa3\\xf6\\xcf\\xb2\\xff\\x00e\\xf9\\x1f\\xf1\\xf7\\x04\\xbb6\\xfd\\xa2o\\xb9\\xb7;\\xf9\\xce\\x061?l\\x1f\\xf9X\\x17I\\xff\\x00\\xb1\\xdf\\xc2_\\xfa\\'M\\xaf\\x1b\\xff\\x00\\x83\\xe7?\\xe6\\xd7\\x7f\\xeek\\xff\\x00\\xdc-W\\x0eF1\\xab\\x8a\\x8cU\\x92\\xa8\\xff\\x00S?\\x1d\\xb15\\xb1\\x19w\\x0fb1\\x12s\\x9c\\xf0t\\xdc\\xa4\\xdbm\\xb7\\x18\\xb6\\xdbz\\xb6\\xde\\xad\\xbd[>p\\xf0\\x9f\\xfc\\x15c\\xfe\\n\\xfb\\xe3\\xdf\\n\\xe9\\xba\\xee\\x85\\xa7\\xfco\\xd6\\xb4Mj\\xd2+\\xfd?P\\xb0\\xf8#gsk\\x7fo*\\x07\\x8ah\\xa5M(\\xa4\\x91\\xba2\\xb2\\xb2\\x92\\x18\\x10A \\xd6\\x7f\\xc5/\\xf8,\\'\\xfc\\x15\\xa3\\xe0w\\x81/\\xbcS\\xe3V\\xf8\\xbf\\xe0\\xff\\x00\\x0c\\xe9~_\\xdb5}o\\xe0\\xd5\\x86\\x9fai\\xe6H\\xb1G\\xe6O.\\x96\\xb1\\xa6\\xe9\\x1d\\x10n#,\\xea\\x07$\\n\\xfe\\x87\\x7f\\xe0\\x93\\xbf\\xf2\\x8b/\\xd9\\xa7\\xfe\\xc9W\\x85\\xff\\x00\\xf4\\xd1k^\\x01\\xff\\x00\\x07G\\x7f\\xca\\n>9\\xff\\x00\\xdc\\x03\\xff\\x00R\\r2\\xbe\\xa0\\xfew9\\xff\\x00\\xf85\\xff\\x00\\xf6\\xf5\\xf8\\xb1\\xff\\x00\\x05\\x11\\xfd\\x81|]\\xe3_\\x8c^+\\xff\\x00\\x84\\xc3\\xc4\\xda_\\xc4\\x0b\\xcd\\x12\\xd6\\xf3\\xfb2\\xcfO\\xf2\\xac\\xe3\\xd3\\xb4\\xd9\\x92/.\\xd6(\\xa38\\x92\\xe2f\\xdcT\\xb7\\xcf\\x82p\\x00\\x1f\\xa3\\xf5\\xf9\\x01\\xff\\x00\\x06T\\xff\\x00\\xca,\\xbc}\\xff\\x00eWQ\\xff\\x00\\xd3F\\x8f_\\xaf\\xf4\\x00QE\\x14\\x00W\\xe3/\\xfc\\x1b\\xb5\\xff\\x00\\'\\xad\\xe2\\x8f\\xfb\\x12.\\xff\\x00\\xf4\\xbfO\\xaf\\xd9\\xaa\\xfce\\xff\\x00\\x83v\\xbf\\xe4\\xf5\\xbcQ\\xff\\x00bE\\xdf\\xfe\\x97\\xe9\\xf5\\xf3\\x19\\xd7\\xfc\\x8c0~\\xb2\\xff\\x00\\xdbO\\xe8/\\n\\x7f\\xe4\\x88\\xe2\\x8f\\xfa\\xf7C\\xf3\\xaa\\x1f\\xb6\\x0f\\xfc\\xac\\x0b\\xa4\\xff\\x00\\xd8\\xef\\xe1/\\xfd\\x13\\xa6\\xd7\\x8d\\xff\\x00\\xc1\\xf3\\x9f\\xf3k\\xbf\\xf75\\xff\\x00\\xee\\x16\\xbd\\x93\\xf6\\xc1\\xff\\x00\\x95\\x81t\\x9f\\xfb\\x1d\\xfc%\\xff\\x00\\xa2t\\xda\\xf1\\xbf\\xf8>s\\xfemw\\xfe\\xe6\\xbf\\xfd\\xc2\\xd3\\xe1\\xff\\x00\\xe3\\xe2\\xbf\\xeb\\xe3\\xfc\\xd8x\\xdb\\xff\\x00\"\\x8e\\x1b\\xff\\x00\\xb0*\\x7f\\xfaL\\x0f\\xd7\\xef\\xf8$\\xef\\xfc\\xa2\\xcb\\xf6i\\xff\\x00\\xb2U\\xe1\\x7f\\xfd4Z\\xd7\\x80\\x7f\\xc1\\xd1\\xdf\\xf2\\x82\\x8f\\x8e\\x7f\\xf7\\x00\\xff\\x00\\xd4\\x83L\\xad\\x0f\\xf8&W\\xfc\\x14\\xdb\\xf6n\\xf0\\x17\\xfc\\x13o\\xf6|\\xd0\\xb5\\xdf\\xda\\x0f\\xe0\\x86\\x8b\\xad\\xe8\\xbf\\r|9a\\xa8i\\xf7\\xfe:\\xd2\\xed\\xae\\xac.\"\\xd2\\xed\\x92Xe\\x89\\xe7\\x0f\\x1c\\x88\\xea\\xca\\xca\\xc0\\x15 \\x82\\x01\\x15\\xe1\\xff\\x00\\xf0q\\xe7\\xfc\\x14\\'\\xe0\\x17\\xc7\\x1f\\xf8#\\x1f\\xc6O\\x0bx+\\xe3\\x87\\xc2\\x0f\\x18x\\x9bT\\xfe\\xc4\\xfb\\x1e\\x91\\xa2x\\xcbN\\xd4/\\xee\\xfc\\xbdsO\\x96O.\\x08\\xa6i\\x1flh\\xeev\\x83\\x85F\\'\\x80M}1\\xfc\\xfas\\xff\\x00\\xf0eO\\xfc\\xa2\\xcb\\xc7\\xdf\\xf6Uu\\x1f\\xfd4h\\xf5\\xfa\\xff\\x00_\\x90\\x1f\\xf0eO\\xfc\\xa2\\xcb\\xc7\\xdf\\xf6Uu\\x1f\\xfd4h\\xf5\\xfa\\xff\\x00@\\x05\\x14Q@\\x05~2\\xff\\x00\\xc1\\xbb_\\xf2z\\xde(\\xff\\x00\\xb1\"\\xef\\xff\\x00K\\xf4\\xfa\\xfd\\x9a\\xaf\\xc6_\\xf8\\x87k\\xe3_\\xfd\\r\\x1f\\x0b\\x7f\\xf0e\\x7f\\xff\\x00\\xc8u\\xf3\\x19\\xf5,G\\xd60\\xf5\\xe8Ss\\xe4rm/\\x91\\xfd\\x05\\xe0\\xcea\\x92\\x7fbgy6s\\x8d\\x8e\\x17\\xebQ\\xa3\\x18\\xcaJ\\xfb{[\\xb4\\xae\\xafk\\xae\\xabp\\xfd\\xb0\\x7f\\xe5`]\\'\\xfe\\xc7\\x7f\\t\\x7f\\xe8\\x9d6\\xbe\\x9b\\xff\\x00\\x82\\xe7\\x7f\\xc1\\x0c\\x7f\\xe1\\xf4\\x7f\\xf0\\xab\\xbf\\xe2\\xe8\\xff\\x00\\xc2\\xb6\\xff\\x00\\x85m\\xfd\\xad\\xff\\x002\\xdf\\xf6\\xc7\\xf6\\x8f\\xdb\\xbe\\xc5\\xff\\x00OV\\xfe^\\xcf\\xb1\\xff\\x00\\xb5\\xbb\\xcc\\xfe\\x1d\\xbc\\xf8\\xbf\\xec\\xe3\\xff\\x00\\x04\\x1f\\xf8\\xbd\\xf0\\x83\\xf6\\x86\\xf0\\x1f\\x8bu/\\x11\\xfc8\\x9fN\\xf0\\xbf\\x88\\xb4\\xfd^\\xea;mB\\xf5\\xa7\\x92+{\\x98\\xe5u@\\xd6\\x8a\\xa5\\xca\\xa1\\xc0,\\x06q\\x92:\\xd7\\xeb=_\\x0fQ\\xaf\\x17^\\xa5x89\\xca\\xf6~g?\\x8d\\xf9\\xaeO\\x88\\xa7\\x94\\xe02|0q1\\xc2\\xe1\\xe3I\\xca*\\xd7q\\xb4omm{^\\xd7v\\xee\\xcf\\xc0\\x1f\\xf8\\x81\\x8f\\xfe\\xae\\x8b\\xff\\x001\\xbf\\xff\\x00}(\\xff\\x00\\x88\\x18\\xff\\x00\\xea\\xe8\\xbf\\xf3\\x1b\\xff\\x00\\xf7\\xd2\\xbf\\x7f\\xa8\\xaf\\xa4?\\x05>@\\xff\\x00\\x82*\\x7f\\xc1)\\x7f\\xe1\\xcf\\x9f\\xb2\\xc6\\xbf\\xf0\\xd3\\xfe\\x13\\xdf\\xf8X\\x9f\\xdb\\x9e+\\xb8\\xf1?\\xf6\\x97\\xf6\\'\\xf6G\\x91\\xe6\\xdaY\\xdby\\x1eW\\xda\\'\\xdd\\x8f\\xb2n\\xdf\\xbcg\\xcc\\xc6\\xd1\\xb7\\'\\xeb\\xfa(\\xa0\\x02\\x8a(\\xa0\\x02\\x8a(\\xa0\\x02\\x8a(\\xa0\\x02\\x8a(\\xa0\\x02\\x8a(\\xa0\\x02\\x8a(\\xa0\\x0f\\xff\\xd9'\n",
    "str(image)\n",
    "#codecs.decode(a, \"hex\")\n",
    "int(a,16)"
   ]
  },
  {
   "cell_type": "code",
   "execution_count": 7,
   "metadata": {},
   "outputs": [
    {
     "data": {
      "text/plain": [
       "bytes"
      ]
     },
     "execution_count": 7,
     "metadata": {},
     "output_type": "execute_result"
    }
   ],
   "source": [
    "type(image)"
   ]
  },
  {
   "cell_type": "code",
   "execution_count": null,
   "metadata": {},
   "outputs": [],
   "source": []
  },
  {
   "cell_type": "code",
   "execution_count": null,
   "metadata": {},
   "outputs": [],
   "source": []
  },
  {
   "cell_type": "code",
   "execution_count": 176,
   "metadata": {},
   "outputs": [],
   "source": [
    "f = open('123.jpg', 'rb')\n",
    "jpgdata = f.read()\n",
    "f.close()"
   ]
  },
  {
   "cell_type": "code",
   "execution_count": 142,
   "metadata": {},
   "outputs": [
    {
     "data": {
      "text/plain": [
       "b'\\xff\\xd8\\xff\\xe0\\x00\\x10JFIF\\x00\\x01\\x01\\x01\\x00`\\x00`\\x00\\x00\\xff\\xdb\\x00C\\x00\\x02\\x01\\x01\\x02\\x01\\x01\\x02\\x02\\x02\\x02\\x02\\x02\\x02\\x02\\x03\\x05\\x03\\x03\\x03\\x03\\x03\\x06\\x04\\x04\\x03\\x05\\x07\\x06\\x07\\x07\\x07\\x06\\x07\\x07\\x08\\t\\x0b\\t\\x08\\x08\\n\\x08\\x07\\x07\\n\\r\\n\\n\\x0b\\x0c\\x0c\\x0c\\x0c\\x07\\t\\x0e\\x0f\\r\\x0c\\x0e\\x0b\\x0c\\x0c\\x0c\\xff\\xdb\\x00C\\x01\\x02\\x02\\x02\\x03\\x03\\x03\\x06\\x03\\x03\\x06\\x0c\\x08\\x07\\x08\\x0c\\x0c\\x0c\\x0c\\x0c\\x0c\\x0c\\x0c\\x0c\\x0c\\x0c\\x0c\\x0c\\x0c\\x0c\\x0c\\x0c\\x0c\\x0c\\x0c\\x0c\\x0c\\x0c\\x0c\\x0c\\x0c\\x0c\\x0c\\x0c\\x0c\\x0c\\x0c\\x0c\\x0c\\x0c\\x0c\\x0c\\x0c\\x0c\\x0c\\x0c\\x0c\\x0c\\x0c\\x0c\\x0c\\x0c\\x0c\\x0c\\x0c\\xff\\xc0\\x00\\x11\\x08\\x00J\\x00M\\x03\\x01\"\\x00\\x02\\x11\\x01\\x03\\x11\\x01\\xff\\xc4\\x00\\x1f\\x00\\x00\\x01\\x05\\x01\\x01\\x01\\x01\\x01\\x01\\x00\\x00\\x00\\x00\\x00\\x00\\x00\\x00\\x01\\x02\\x03\\x04\\x05\\x06\\x07\\x08\\t\\n\\x0b\\xff\\xc4\\x00\\xb5\\x10\\x00\\x02\\x01\\x03\\x03\\x02\\x04\\x03\\x05\\x05\\x04\\x04\\x00\\x00\\x01}\\x01\\x02\\x03\\x00\\x04\\x11\\x05\\x12!1A\\x06\\x13Qa\\x07\"q\\x142\\x81\\x91\\xa1\\x08#B\\xb1\\xc1\\x15R\\xd1\\xf0$3br\\x82\\t\\n\\x16\\x17\\x18\\x19\\x1a%&\\'()*456789:CDEFGHIJSTUVWXYZcdefghijstuvwxyz\\x83\\x84\\x85\\x86\\x87\\x88\\x89\\x8a\\x92\\x93\\x94\\x95\\x96\\x97\\x98\\x99\\x9a\\xa2\\xa3\\xa4\\xa5\\xa6\\xa7\\xa8\\xa9\\xaa\\xb2\\xb3\\xb4\\xb5\\xb6\\xb7\\xb8\\xb9\\xba\\xc2\\xc3\\xc4\\xc5\\xc6\\xc7\\xc8\\xc9\\xca\\xd2\\xd3\\xd4\\xd5\\xd6\\xd7\\xd8\\xd9\\xda\\xe1\\xe2\\xe3\\xe4\\xe5\\xe6\\xe7\\xe8\\xe9\\xea\\xf1\\xf2\\xf3\\xf4\\xf5\\xf6\\xf7\\xf8\\xf9\\xfa\\xff\\xc4\\x00\\x1f\\x01\\x00\\x03\\x01\\x01\\x01\\x01\\x01\\x01\\x01\\x01\\x01\\x00\\x00\\x00\\x00\\x00\\x00\\x01\\x02\\x03\\x04\\x05\\x06\\x07\\x08\\t\\n\\x0b\\xff\\xc4\\x00\\xb5\\x11\\x00\\x02\\x01\\x02\\x04\\x04\\x03\\x04\\x07\\x05\\x04\\x04\\x00\\x01\\x02w\\x00\\x01\\x02\\x03\\x11\\x04\\x05!1\\x06\\x12AQ\\x07aq\\x13\"2\\x81\\x08\\x14B\\x91\\xa1\\xb1\\xc1\\t#3R\\xf0\\x15br\\xd1\\n\\x16$4\\xe1%\\xf1\\x17\\x18\\x19\\x1a&\\'()*56789:CDEFGHIJSTUVWXYZcdefghijstuvwxyz\\x82\\x83\\x84\\x85\\x86\\x87\\x88\\x89\\x8a\\x92\\x93\\x94\\x95\\x96\\x97\\x98\\x99\\x9a\\xa2\\xa3\\xa4\\xa5\\xa6\\xa7\\xa8\\xa9\\xaa\\xb2\\xb3\\xb4\\xb5\\xb6\\xb7\\xb8\\xb9\\xba\\xc2\\xc3\\xc4\\xc5\\xc6\\xc7\\xc8\\xc9\\xca\\xd2\\xd3\\xd4\\xd5\\xd6\\xd7\\xd8\\xd9\\xda\\xe2\\xe3\\xe4\\xe5\\xe6\\xe7\\xe8\\xe9\\xea\\xf2\\xf3\\xf4\\xf5\\xf6\\xf7\\xf8\\xf9\\xfa\\xff\\xda\\x00\\x0c\\x03\\x01\\x00\\x02\\x11\\x03\\x11\\x00?\\x00\\xfd\\xfc\\xa2\\x8a\\xe7\\xfe,|R\\xd0\\xbe\\x07|,\\xf1/\\x8d|S}\\xfd\\x97\\xe1\\x9f\\x07\\xe9WZ\\xde\\xafy\\xe4\\xc9?\\xd9,\\xed\\xa1y\\xa7\\x97\\xcb\\x8dZG\\xdb\\x1a3mEf8\\xc0\\x04\\xe0P\\x07AE|\\x01\\xff\\x00\\x11F\\xfe\\xc2\\x9f\\xf4\\\\\\xbf\\xf2\\xcc\\xf1\\x07\\xff\\x00 \\xd1\\xff\\x00\\x11F\\xfe\\xc2\\x9f\\xf4\\\\\\xbf\\xf2\\xcc\\xf1\\x07\\xff\\x00 \\xd0\\x07\\xdf\\xf4W\\xcf\\xff\\x00\\xb0\\xc7\\xfc\\x15\\x1f\\xe0O\\xfc\\x14\\xa3\\xfe\\x12\\x8f\\xf8R\\x9e9\\xff\\x00\\x84\\xd3\\xfe\\x10\\xbf\\xb2\\x7fl\\xff\\x00\\xc4\\x97P\\xd3\\xbe\\xc7\\xf6\\xaf?\\xc8\\xff\\x00\\x8f\\xb8\"\\xdf\\xbb\\xec\\xf3}\\xcd\\xd8\\xd9\\xce23\\xf4\\x05\\x00\\x14QE\\x00\\x14QE\\x00\\x15\\xf3\\xff\\x00\\xfc\\x15\\x8b\\xfeQe\\xfbK\\x7f\\xd9*\\xf1G\\xfe\\x9a.\\xab\\xe8\\n\\xf9\\xff\\x00\\xfe\\n\\xc5\\xff\\x00(\\xb2\\xfd\\xa5\\xbf\\xec\\x95x\\xa3\\xff\\x00M\\x17T\\x01\\xfc\\xe1\\x7f\\xc1\\xb7\\xbf\\xf0EO\\x85\\x9f\\xf0X?\\xf8\\\\\\xbf\\xf0\\xb2\\xf5\\xff\\x00\\x88\\x1a\\x1f\\xfc+\\xbf\\xecO\\xec\\xdf\\xf8F/\\xad-\\xbc\\xff\\x00\\xb6\\xff\\x00hy\\xbew\\xda-\\xa7\\xdd\\x8f\\xb2G\\xb7n\\xdcn|\\xe7#\\x1fw\\xfe\\xdb\\xbf\\xf0h\\xa7\\xec\\xdd\\xfb5\\xfe\\xc5\\xff\\x00\\x17~\"\\xe8^6\\xf8\\xdfw\\xad\\xf8\\x03\\xc1Z\\xcf\\x894\\xf8/\\xf5\\x8d-\\xedf\\xb8\\xb3\\xb1\\x9a\\xe2$\\x95SNG1\\x97\\x8dC\\x05u$\\x13\\x86\\x07\\x9a\\xe3\\xff\\x00\\xe0\\xc6?\\xf9\\xba/\\xfb\\x95?\\xf75_\\xaf\\xdf\\xf0V/\\xf9E\\x97\\xed-\\xff\\x00d\\xab\\xc5\\x1f\\xfah\\xba\\xa0\\x0f\\xc8\\x1f\\xf81\\x8f\\xfen\\x8b\\xfe\\xe5O\\xfd\\xcdW\\xef\\xf5~\\x00\\xff\\x00\\xc1\\x8c\\x7f\\xf3t_\\xf7*\\x7f\\xeej\\xbf[\\xbcs\\xff\\x00\\x05p\\xfd\\x9e\\xfe\\x1bx\\xdbX\\xf0\\xee\\xb5\\xf1\\x03\\xecZ\\xce\\x81}6\\x9d\\x7fo\\xfd\\x85\\xa9I\\xe4\\\\C#G\"nKr\\xad\\x87R2\\xa4\\x83\\x8e\\t\\x15\\x85|M\\x1a*\\xf5\\xa6\\xa3~\\xed/\\xcc\\xf5\\xf2\\x9c\\x834\\xcdg*y^\\x1a\\xa5yGV\\xa9\\xc2Siwj)\\xd8\\xfaB\\x8a\\xf9o\\xfe\\x1fI\\xfb4\\x7f\\xd1J\\xff\\x00\\xcb{U\\xff\\x00\\xe4j?\\xe1\\xf4\\x9f\\xb3G\\xfd\\x14\\xaf\\xfc\\xb7\\xb5_\\xfeF\\xae\\x7f\\xed\\\\\\x17\\xfc\\xfe\\x87\\xfe\\x04\\xbf\\xcc\\xf7\\x7f\\xe2\\x1b\\xf1o\\xfd\\n\\xf1?\\xf8\"\\xaf\\xff\\x00\"}IEx\\'\\xc1o\\xf8)\\xdf\\xc0\\xef\\xda\\x1f\\xe2f\\x9b\\xe0\\xff\\x00\\x07\\xf8\\xdf\\xfb_\\xc4z\\xbf\\x9b\\xf6KO\\xecmB\\xdf\\xce\\xf2\\xa2y\\x9f\\xe7\\x96\\x05A\\x88\\xe3s\\xcb\\x0c\\xe3\\x03\\x92\\x05{\\xddt\\xd1\\xc4R\\xad\\x1ej2R^N\\xff\\x00\\x91\\xf3\\xd9\\xb6I\\x98\\xe5u\\x96\\x1f3\\xc3\\xce\\x8c\\xda\\xba\\x8dHJ\\r\\xab\\xb5{I\\'k\\xa6\\xaf\\xb5\\xd3\\xec\\x15\\xf3\\xff\\x00\\xfc\\x15\\x8b\\xfeQe\\xfbK\\x7f\\xd9*\\xf1G\\xfe\\x9a.\\xab\\xe8\\n\\xf9\\xff\\x00\\xfe\\n\\xc5\\xff\\x00(\\xb2\\xfd\\xa5\\xbf\\xec\\x95x\\xa3\\xff\\x00M\\x17U\\xb1\\xe6\\x1f\\x90?\\xf0c\\x1f\\xfc\\xdd\\x17\\xfd\\xca\\x9f\\xfb\\x9a\\xaf\\xd7\\xef\\xf8+\\x17\\xfc\\xa2\\xcb\\xf6\\x96\\xff\\x00\\xb2U\\xe2\\x8f\\xfd4]W\\xe4\\x0f\\xfc\\x18\\xc7\\xff\\x007E\\xff\\x00r\\xa7\\xfe\\xe6\\xab\\xf5\\xfb\\xfe\\n\\xc5\\xff\\x00(\\xb2\\xfd\\xa5\\xbf\\xec\\x95x\\xa3\\xff\\x00M\\x17T\\x01\\xf9\\x03\\xff\\x00\\x061\\xff\\x00\\xcd\\xd1\\x7f\\xdc\\xa9\\xff\\x00\\xb9\\xaa\\xe9\\xbc9\\xfb;h\\xbf\\xb5\\x87\\xfc\\x16S\\xc6^\\x00\\xf1\\x15\\xd6\\xa9e\\xa3\\xeb\\xfe7\\xf17\\xda&\\xd3d\\x8e;\\x94\\xf2Z\\xfa\\xe1v3\\xa3\\xa8\\xcb\\xc4\\xa0\\xe5O\\x04\\xf4<\\x8eg\\xfe\\x0cc\\xff\\x00\\x9b\\xa2\\xff\\x00\\xb9S\\xff\\x00sU\\xec\\x9f\\xb1\\xf7\\xfc\\xac\\x0b\\xab\\x7f\\xd8\\xef\\xe2\\xdf\\xfd\\x13\\xa9W\\xca\\xf1$#R\\xa6\\x1a\\x13WNi?\\xc0\\xfe\\x8c\\xf0\\x17\\x1b_\\x07\\x81\\xe2\\x0c^\\x1aN5)\\xe1\\'(\\xb5\\xba\\x94T\\x9ak\\xcd5s\\xeaO\\xf8\\x87k\\xe0\\xa7\\xfd\\r\\x1f\\x14\\xbf\\xf0ea\\xff\\x00\\xc8t\\x7f\\xc4;_\\x05?\\xe8h\\xf8\\xa5\\xff\\x00\\x83+\\x0f\\xfeC\\xaf\\xbd\\xa8\\xafO\\xfb\\x07/\\xff\\x00\\x9fH\\xf8\\x1f\\xf8\\x8c\\xdco\\xff\\x00C*\\x9fz\\xff\\x00#\\xf1\\x1b\\xfe\\t\\xd3\\xf0\\xee\\xcb\\xe1\\x07\\xfc\\x16\\xd6\\xcb\\xc2Zl\\xb7S\\xe9\\xde\\x17\\xf1\\x17\\x894\\x8bY.YZy\"\\xb7\\xb3\\xd4\"Fr\\xaa\\xaa\\\\\\xaa\\x0c\\x90\\xa0g8\\x03\\xa5~\\xdc\\xd7\\xe3/\\xec}\\xff\\x00+\\x02\\xea\\xdf\\xf6;\\xf8\\xb7\\xff\\x00D\\xeaU\\xfb5^w\\n%\\x1c=X\\xad\\xbd\\xa4\\xbf$}\\xcf\\xd2F\\xb4\\xebgyuj\\xae\\xf2\\x96\\x0e\\x8bo\\xbbs\\xaa\\xdb\\n\\xf9\\xff\\x00\\xfe\\n\\xc5\\xff\\x00(\\xb2\\xfd\\xa5\\xbf\\xec\\x95x\\xa3\\xff\\x00M\\x17U\\xf4\\x05|\\xff\\x00\\xff\\x00\\x05b\\xff\\x00\\x94Y~\\xd2\\xdf\\xf6J\\xbcQ\\xff\\x00\\xa6\\x8b\\xaa\\xfa\\x83\\xf9\\xe0\\xfc\\x81\\xff\\x00\\x83\\x18\\xff\\x00\\xe6\\xe8\\xbf\\xeeT\\xff\\x00\\xdc\\xd5~\\xbf\\x7f\\xc1X\\xbf\\xe5\\x16_\\xb4\\xb7\\xfd\\x92\\xaf\\x14\\x7f\\xe9\\xa2\\xea\\xbf\\x10\\xbf\\xe0\\xcdo\\xda\\xc7\\xe1g\\xec\\xbf\\xff\\x00\\r\\x1d\\xff\\x00\\x0b/\\xe2_\\x80>\\x1d\\xff\\x00n\\x7f\\xc23\\xfd\\x9b\\xff\\x00\\t?\\x88m4\\x8f\\xed\\x0f+\\xfb_\\xcd\\xf2~\\xd1\"y\\x9b<\\xd8\\xf7m\\xce\\xdf13\\x8d\\xc2\\xbfS\\xbf\\xe0\\xa6\\xbf\\xf0So\\xd9\\xbb\\xc7\\xbf\\xf0M\\xbf\\xda\\x0fB\\xd0\\xbfh?\\x82\\x1a\\xd6\\xb7\\xad|5\\xf1\\x1d\\x86\\x9f\\xa7\\xd8x\\xebK\\xb9\\xba\\xbf\\xb8\\x97K\\xb9H\\xa1\\x8a$\\x9c\\xbc\\x92;\\xb2\\xaa\\xaa\\x82X\\x90\\x00$\\xd0\\x07\\xe7\\x87\\xfc\\x18\\xc7\\xff\\x007E\\xff\\x00r\\xa7\\xfe\\xe6\\xabKQ\\xfd\\xa5\\x7f\\xe1\\x90\\x7f\\xe0\\xad\\xde;\\xf8\\x89\\xfd\\x8b\\xff\\x00\\t\\x0f\\xfc#\\xde7\\xf1\\'\\xfcK\\xfe\\xd9\\xf6O\\xb4y\\xd2^[\\xff\\x00\\xad\\xd8\\xfbv\\xf9\\xbb\\xbe\\xe9\\xce\\xdcq\\x9c\\x8c\\xdf\\xf81\\x8f\\xfen\\x8b\\xfe\\xe5O\\xfd\\xcdW\\xed\\xb6\\xb9\\xfb\\x1c|\"\\xf1>\\xb7y\\xa9j_\\n\\xfe\\x1cj\\x1a\\x8e\\xa1;\\xdc\\xdd]\\\\\\xf8f\\xcaY\\xeeev,\\xf2;\\xb4e\\x99\\xd9\\x89%\\x89$\\x92I\\xaf\\x179\\xcbj\\xe2\\xfd\\x9b\\xa3%\\x19A\\xde\\xefS\\xf5\\x9f\\n\\xf8\\xfb-\\xe1\\xa7\\x8e\\xa5\\x9a\\xe1\\xa5^\\x96*\\x97\\xb2\\x94c._u\\xdf\\x9b]\\x1e\\xa9\\xdbF\\x9a\\xe8\\xcf\\xcf\\xff\\x00\\xf8\\x89K\\xfe\\xa8\\xbf\\xfe]\\xdf\\xfd\\xc5G\\xfcD\\xa5\\xff\\x00T_\\xff\\x00.\\xef\\xfe\\xe2\\xaf\\xbd\\xbf\\xe1\\x87>\\n\\x7f\\xd1\\x1f\\xf8[\\xff\\x00\\x84\\xa5\\x87\\xff\\x00\\x1a\\xa3\\xfe\\x18s\\xe0\\xa7\\xfd\\x11\\xff\\x00\\x85\\xbf\\xf8JX\\x7f\\xf1\\xaa\\xe3\\xfa\\x8eu\\xff\\x00A+\\xff\\x00\\x01_\\xe4}O\\xfa\\xe1\\xe1G\\xfd\\x08*\\x7f\\xe0\\xfa\\x9f\\xfc\\xb0\\xfc\\x8e\\xff\\x00\\x82f|J\\xff\\x00\\x85\\xcf\\xff\\x00\\x05\\x9a\\xd1\\xbca\\xf6/\\xec\\xdf\\xf8J\\xf5\\xbf\\x10\\xeb?d\\xf3\\xbc\\xef\\xb2\\xfd\\xa2\\xca\\xfeo/~\\xd5\\xdf\\xb7~7m\\x19\\xc6p:W\\xee\\x1dp>\\n\\xfd\\x95~\\x17\\xfc6\\xf15\\xb6\\xb5\\xe1\\xdf\\x86\\xfe\\x02\\xd05\\x8b-\\xdfg\\xbf\\xd3|?iks\\x06\\xe4(\\xdb$H\\xc3.U\\x99N\\x0f!\\x88\\xe8k\\xbe\\xae\\xec\\x97-\\xa9\\x82\\xa3*u%\\xcc\\xdc\\x9b\\xba\\xf3K\\xfc\\x8f\\x8e\\xf1g\\x8e\\xf0|W\\x9aP\\xc6`(J\\x8d:TcIFN\\xef\\xdd\\x94\\xda\\xd7\\xd2Ik\\xae\\x81^\\x7f\\xfbX\\xfc\\x0c\\xff\\x00\\x86\\xa0\\xfd\\x96>%\\xfc4\\xfe\\xd4\\xfe\\xc3\\xff\\x00\\x85\\x89\\xe1]S\\xc3\\x1f\\xda_f\\xfbO\\xf6\\x7f\\xdbm%\\xb6\\xf3\\xfc\\xad\\xe9\\xe6l\\xf3wl\\xde\\xbb\\xb6\\xe3p\\xcek\\xd0(\\xaf`\\xfc\\xb8\\xfc\\x01\\xff\\x00\\x88\\x18\\xff\\x00\\xea\\xe8\\xbf\\xf3\\x1b\\xff\\x00\\xf7\\xd2\\x8f\\xf8\\x81\\x8f\\xfe\\xae\\x8b\\xff\\x001\\xbf\\xff\\x00}+\\xf7\\xfa\\x8a\\x00\\xf8\\x03\\xfe\\x08c\\xff\\x00\\x041\\xff\\x00\\x87.\\x7f\\xc2\\xd1\\xff\\x00\\x8b\\xa3\\xff\\x00\\x0b\\'\\xfe\\x16O\\xf6O\\xfc\\xcb\\x7f\\xd8\\xff\\x00\\xd9\\xdfa\\xfbo\\xfd=\\\\y\\x9b\\xfe\\xd9\\xfe\\xce\\xdf/\\xf8\\xb7q\\xf7\\xfd\\x14P\\x01E\\x14P\\x01E\\x14P\\x07\\xff\\xd9'"
      ]
     },
     "execution_count": 142,
     "metadata": {},
     "output_type": "execute_result"
    }
   ],
   "source": [
    "jpgdata"
   ]
  },
  {
   "cell_type": "code",
   "execution_count": 147,
   "metadata": {},
   "outputs": [
    {
     "ename": "UnicodeDecodeError",
     "evalue": "'big5' codec can't decode byte 0xff in position 0: illegal multibyte sequence",
     "output_type": "error",
     "traceback": [
      "\u001b[1;31m---------------------------------------------------------------------------\u001b[0m",
      "\u001b[1;31mUnicodeDecodeError\u001b[0m                        Traceback (most recent call last)",
      "\u001b[1;32m<ipython-input-147-c1ce1c0037f1>\u001b[0m in \u001b[0;36m<module>\u001b[1;34m\u001b[0m\n\u001b[0;32m      1\u001b[0m \u001b[1;32mwith\u001b[0m \u001b[0mopen\u001b[0m\u001b[1;33m(\u001b[0m\u001b[1;34m'123.jpg'\u001b[0m\u001b[1;33m,\u001b[0m \u001b[1;34m'r'\u001b[0m\u001b[1;33m,\u001b[0m \u001b[0mencoding\u001b[0m\u001b[1;33m=\u001b[0m\u001b[1;34m\"big5\"\u001b[0m\u001b[1;33m)\u001b[0m \u001b[1;32mas\u001b[0m \u001b[0mf\u001b[0m\u001b[1;33m:\u001b[0m\u001b[1;33m\u001b[0m\u001b[1;33m\u001b[0m\u001b[0m\n\u001b[1;32m----> 2\u001b[1;33m     \u001b[0mjpgdata\u001b[0m \u001b[1;33m=\u001b[0m \u001b[0mf\u001b[0m\u001b[1;33m.\u001b[0m\u001b[0mread\u001b[0m\u001b[1;33m(\u001b[0m\u001b[1;33m)\u001b[0m\u001b[1;33m\u001b[0m\u001b[1;33m\u001b[0m\u001b[0m\n\u001b[0m",
      "\u001b[1;31mUnicodeDecodeError\u001b[0m: 'big5' codec can't decode byte 0xff in position 0: illegal multibyte sequence"
     ]
    }
   ],
   "source": [
    "with open('123.jpg', 'r', encoding=\"big5\") as f:\n",
    "    jpgdata = f.read()"
   ]
  },
  {
   "cell_type": "code",
   "execution_count": null,
   "metadata": {},
   "outputs": [],
   "source": []
  },
  {
   "cell_type": "code",
   "execution_count": null,
   "metadata": {},
   "outputs": [],
   "source": []
  },
  {
   "cell_type": "code",
   "execution_count": 151,
   "metadata": {},
   "outputs": [],
   "source": [
    "from PIL import Image\n",
    "img = Image.open('123.jpg')\n",
    "img.show()"
   ]
  },
  {
   "cell_type": "code",
   "execution_count": 152,
   "metadata": {},
   "outputs": [],
   "source": [
    "import matplotlib.pyplot as plt\n",
    "import matplotlib.image as mpimg\n",
    "\n",
    "img=mpimg.imread('123.jpg')"
   ]
  },
  {
   "cell_type": "code",
   "execution_count": 153,
   "metadata": {},
   "outputs": [
    {
     "data": {
      "text/plain": [
       "array([[[255, 255, 255],\n",
       "        [255, 255, 255],\n",
       "        [255, 255, 255],\n",
       "        ...,\n",
       "        [255, 255, 255],\n",
       "        [255, 255, 255],\n",
       "        [255, 255, 255]],\n",
       "\n",
       "       [[255, 255, 255],\n",
       "        [255, 255, 255],\n",
       "        [255, 255, 255],\n",
       "        ...,\n",
       "        [255, 255, 255],\n",
       "        [255, 255, 255],\n",
       "        [255, 255, 255]],\n",
       "\n",
       "       [[255, 255, 255],\n",
       "        [255, 255, 255],\n",
       "        [255, 255, 255],\n",
       "        ...,\n",
       "        [255, 255, 255],\n",
       "        [255, 255, 255],\n",
       "        [255, 255, 255]],\n",
       "\n",
       "       ...,\n",
       "\n",
       "       [[255, 255, 255],\n",
       "        [255, 255, 255],\n",
       "        [255, 255, 255],\n",
       "        ...,\n",
       "        [255, 255, 255],\n",
       "        [255, 255, 255],\n",
       "        [255, 255, 255]],\n",
       "\n",
       "       [[255, 255, 255],\n",
       "        [255, 255, 255],\n",
       "        [255, 255, 255],\n",
       "        ...,\n",
       "        [255, 255, 255],\n",
       "        [255, 255, 255],\n",
       "        [255, 255, 255]],\n",
       "\n",
       "       [[255, 255, 255],\n",
       "        [255, 255, 255],\n",
       "        [255, 255, 255],\n",
       "        ...,\n",
       "        [255, 255, 255],\n",
       "        [255, 255, 255],\n",
       "        [255, 255, 255]]], dtype=uint8)"
      ]
     },
     "execution_count": 153,
     "metadata": {},
     "output_type": "execute_result"
    }
   ],
   "source": [
    "img"
   ]
  },
  {
   "cell_type": "code",
   "execution_count": 154,
   "metadata": {},
   "outputs": [
    {
     "data": {
      "image/png": "[encoded data removed]",
      "text/plain": [
       "<Figure size 432x288 with 1 Axes>"
      ]
     },
     "metadata": {
      "needs_background": "light"
     },
     "output_type": "display_data"
    }
   ],
   "source": [
    "imgplot = plt.imshow(img)"
   ]
  },
  {
   "cell_type": "code",
   "execution_count": 16,
   "metadata": {},
   "outputs": [
    {
     "data": {
      "image/png": "[encoded data removed]",
      "text/plain": [
       "<Figure size 432x288 with 1 Axes>"
      ]
     },
     "metadata": {
      "needs_background": "light"
     },
     "output_type": "display_data"
    }
   ],
   "source": [
    "aaa =  [[(12,14,15),(23,45,56),(45,56,78),(93,45,67)],\n",
    "       [(12,14,15),(23,45,56),(45,56,78),(93,45,67)],\n",
    "       [(12,14,15),(23,45,56),(45,56,78),(93,45,67)]]\n",
    "from matplotlib.pyplot import imshow\n",
    "import matplotlib.pyplot as plt\n",
    "imshow(aaa, interpolation=\"nearest\")  \n",
    "plt.show()"
   ]
  },
  {
   "cell_type": "code",
   "execution_count": 118,
   "metadata": {},
   "outputs": [
    {
     "name": "stdout",
     "output_type": "stream",
     "text": [
      "123\n"
     ]
    }
   ],
   "source": [
    "a=1\n",
    "if not a==2:\n",
    "    print(\"123\")\n",
    "else:\n",
    "    print(\"321\")"
   ]
  },
  {
   "cell_type": "markdown",
   "metadata": {},
   "source": [
    "# opencv、PIL、 scikit-image\n",
    "[OpenCV，PIL，Skimage](https://zhuanlan.zhihu.com/p/52344534)\n",
    "影像處理用套件"
   ]
  },
  {
   "cell_type": "markdown",
   "metadata": {},
   "source": [
    "# 數位影像處理"
   ]
  },
  {
   "cell_type": "code",
   "execution_count": null,
   "metadata": {},
   "outputs": [],
   "source": []
  },
  {
   "cell_type": "code",
   "execution_count": null,
   "metadata": {},
   "outputs": [],
   "source": []
  },
  {
   "cell_type": "code",
   "execution_count": null,
   "metadata": {},
   "outputs": [],
   "source": []
  },
  {
   "cell_type": "code",
   "execution_count": null,
   "metadata": {},
   "outputs": [],
   "source": []
  },
  {
   "cell_type": "code",
   "execution_count": null,
   "metadata": {},
   "outputs": [],
   "source": []
  },
  {
   "cell_type": "markdown",
   "metadata": {},
   "source": [
    "# PIL.Image"
   ]
  },
  {
   "cell_type": "raw",
   "metadata": {},
   "source": [
    "去噪點 步驟: 原文網址：https://kknews.cc/code/ppp3a58.html\n",
    "http://www.justdopython.com/2019/10/22/python-image-pillow-clear-norisy-089/\n",
    "https://zhuanlan.zhihu.com/p/62737338\n",
    "https://pillow.readthedocs.io/en/3.1.x/reference/ImageFilter.html\n",
    "1. 灰階化\n",
    "2. 二值化 :將灰度圖像轉換成由黑白二色組成的圖像。思路就是確定一個閾值，大於閾值的像素表示為白色，小於閾值的像素表示為黑色，以此將圖片的像素（灰度值）劃分為兩部分：0和1，例如0代表黑色，1代表白色，然後我們就可以用一串0和1組成的數字來表示一張圖片。\n",
    "3. "
   ]
  },
  {
   "cell_type": "code",
   "execution_count": 1,
   "metadata": {},
   "outputs": [],
   "source": [
    "# Image提供圖片處理功能，ImageDraw模組提供了影象物件的簡單2D繪製。\n",
    "from PIL import Image, ImageDraw\n",
    "import numpy as np\n",
    "image = Image.open('123.jpg')"
   ]
  },
  {
   "cell_type": "code",
   "execution_count": 2,
   "metadata": {},
   "outputs": [
    {
     "data": {
      "image/png": "[encoded data removed]",
      "text/plain": [
       "<PIL.Image.Image image mode=L size=77x74 at 0x12818F68B70>"
      ]
     },
     "execution_count": 2,
     "metadata": {},
     "output_type": "execute_result"
    }
   ],
   "source": [
    "# 1.為了去噪點，轉灰階圖\n",
    "def gray_processing(input_image):\n",
    "    input_image = input_image.convert('L')\n",
    "    return input_image\n",
    "\n",
    "gray_img = gray_processing(image)\n",
    "gray_img"
   ]
  },
  {
   "cell_type": "code",
   "execution_count": 3,
   "metadata": {},
   "outputs": [
    {
     "data": {
      "text/plain": [
       "(77, 74)"
      ]
     },
     "execution_count": 3,
     "metadata": {},
     "output_type": "execute_result"
    }
   ],
   "source": [
    "gray_img.size"
   ]
  },
  {
   "cell_type": "code",
   "execution_count": 19,
   "metadata": {},
   "outputs": [],
   "source": [
    "# 2.二值化\n",
    "def binarizing(gray_img, threshold):\n",
    "    pixdata = gray_img.load()\n",
    "    w, h = gray_img.size #顯示矩陣大小\n",
    "    for x in range(w):\n",
    "        for y in range(h):\n",
    "            if pixdata[x, y] < threshold:\n",
    "                pixdata[x, y] = 0\n",
    "            else:\n",
    "                pixdata[x, y] = 255\n",
    "    return gray_img"
   ]
  },
  {
   "cell_type": "code",
   "execution_count": 20,
   "metadata": {},
   "outputs": [
    {
     "data": {
      "image/png": "[encoded data removed]",
      "text/plain": [
       "<PIL.Image.Image image mode=L size=77x74 at 0x12818F68B70>"
      ]
     },
     "execution_count": 20,
     "metadata": {},
     "output_type": "execute_result"
    }
   ],
   "source": [
    "bin_image = binarizing(gray_img, 125)\n",
    "bin_image"
   ]
  },
  {
   "cell_type": "code",
   "execution_count": 23,
   "metadata": {},
   "outputs": [
    {
     "data": {
      "text/plain": [
       "255"
      ]
     },
     "execution_count": 23,
     "metadata": {},
     "output_type": "execute_result"
    }
   ],
   "source": [
    "# 3. 降噪\n",
    "def get_pixel(image, x, y, G, N):\n",
    "    '''\n",
    "    判斷是否噪點，如果是，用該點的上面一個點的灰度進行替換\n",
    "    根據一點A的RGB值，與周圍8個點的RGB值做比較，設定一個值N，\n",
    "    當A的RGB值與周圍8個點的RGB相等數小於N 時，此點為噪點。\n",
    "    x, y: 像速點座標\n",
    "    G   : 圖像二值化閥值\n",
    "    N   : 降噪率 0 < N < 8\n",
    "    '''\n",
    "    # 獲取像素值\n",
    "    L = image.getpixel((x, y))\n",
    "    # 與閥值比較\n",
    "    if L > G:\n",
    "        L = True\n",
    "    else:\n",
    "        L = False\n",
    "    nearDots = 0\n",
    "    if L ==(image.getpixel)\n",
    "    "
   ]
  },
  {
   "cell_type": "code",
   "execution_count": 156,
   "metadata": {},
   "outputs": [],
   "source": [
    "# 將image轉成 RGB的 matrix\n",
    "image_rgb = np.array(image)\n",
    "\n",
    "# 列印出圖片\n",
    "# Image.fromarray(image, 'RGB')"
   ]
  },
  {
   "cell_type": "code",
   "execution_count": 157,
   "metadata": {},
   "outputs": [
    {
     "data": {
      "text/plain": [
       "array([[[255, 255, 251],\n",
       "        [255, 254, 253],\n",
       "        [255, 255, 255],\n",
       "        ...,\n",
       "        [255, 255, 255],\n",
       "        [255, 255, 255],\n",
       "        [255, 255, 255]],\n",
       "\n",
       "       [[255, 255, 251],\n",
       "        [255, 254, 253],\n",
       "        [255, 255, 255],\n",
       "        ...,\n",
       "        [255, 255, 255],\n",
       "        [255, 255, 255],\n",
       "        [255, 255, 255]],\n",
       "\n",
       "       [[255, 255, 253],\n",
       "        [255, 255, 253],\n",
       "        [255, 254, 255],\n",
       "        ...,\n",
       "        [255, 255, 255],\n",
       "        [255, 255, 255],\n",
       "        [255, 255, 255]],\n",
       "\n",
       "       ...,\n",
       "\n",
       "       [[255, 255, 255],\n",
       "        [255, 255, 255],\n",
       "        [255, 255, 255],\n",
       "        ...,\n",
       "        [255, 255, 255],\n",
       "        [255, 255, 255],\n",
       "        [255, 255, 255]],\n",
       "\n",
       "       [[255, 255, 255],\n",
       "        [255, 255, 255],\n",
       "        [255, 255, 255],\n",
       "        ...,\n",
       "        [255, 255, 255],\n",
       "        [255, 255, 255],\n",
       "        [255, 255, 255]],\n",
       "\n",
       "       [[255, 255, 255],\n",
       "        [255, 255, 255],\n",
       "        [255, 255, 255],\n",
       "        ...,\n",
       "        [255, 255, 255],\n",
       "        [255, 255, 255],\n",
       "        [255, 255, 255]]], dtype=uint8)"
      ]
     },
     "execution_count": 157,
     "metadata": {},
     "output_type": "execute_result"
    }
   ],
   "source": [
    "image_rgb"
   ]
  },
  {
   "cell_type": "code",
   "execution_count": null,
   "metadata": {},
   "outputs": [],
   "source": []
  }
 ],
 "metadata": {
  "kernelspec": {
   "display_name": "Python 3",
   "language": "python",
   "name": "python3"
  },
  "language_info": {
   "codemirror_mode": {
    "name": "ipython",
    "version": 3
   },
   "file_extension": ".py",
   "mimetype": "text/x-python",
   "name": "python",
   "nbconvert_exporter": "python",
   "pygments_lexer": "ipython3",
   "version": "3.7.3"
  },
  "toc": {
   "base_numbering": 1,
   "nav_menu": {},
   "number_sections": true,
   "sideBar": true,
   "skip_h1_title": false,
   "title_cell": "Table of Contents",
   "title_sidebar": "Contents",
   "toc_cell": false,
   "toc_position": {
    "height": "calc(100% - 180px)",
    "left": "10px",
    "top": "150px",
    "width": "200.885px"
   },
   "toc_section_display": true,
   "toc_window_display": true
  }
 },
 "nbformat": 4,
 "nbformat_minor": 2
}
