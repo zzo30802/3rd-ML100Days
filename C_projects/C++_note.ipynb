{
 "cells": [
  {
   "cell_type": "markdown",
   "metadata": {},
   "source": [
    "# 基本"
   ]
  },
  {
   "cell_type": "markdown",
   "metadata": {},
   "source": [
    "## 模板Template"
   ]
  },
  {
   "cell_type": "markdown",
   "metadata": {},
   "source": [
    "### function template"
   ]
  },
  {
   "cell_type": "code",
   "execution_count": null,
   "metadata": {},
   "outputs": [],
   "source": [
    "#include <iostream>\n",
    "using namespace std;\n",
    "//函式template\n",
    "template <class T> T myAdd(T a, T b);\n",
    "int main(){\n",
    "\tint a = 1, b = 2;\n",
    "\tdouble x = 0.1, y = 0.2;\n",
    "\tcout << \"int a+b = \" << myAdd(a, b) << endl;\n",
    "\tcout << \"double x+y = \" << myAdd(x, y) << endl;\n",
    "}\n",
    "template <class T> T myAdd(T a, T b) {\n",
    "\treturn a + b;\n",
    "}"
   ]
  },
  {
   "cell_type": "raw",
   "metadata": {},
   "source": [
    "int a+b = 3\n",
    "double x+y = 0.3"
   ]
  },
  {
   "cell_type": "markdown",
   "metadata": {},
   "source": [
    "### class template"
   ]
  },
  {
   "cell_type": "raw",
   "metadata": {},
   "source": [
    "以下利用C++ how to program中p.750 Stack範例"
   ]
  },
  {
   "cell_type": "code",
   "execution_count": null,
   "metadata": {},
   "outputs": [],
   "source": [
    "//Stack.h\n",
    "#pragma once\n",
    "#ifndef STACK_H\n",
    "#define STACK_H\n",
    "\n",
    "// 宣告 class template\n",
    "template< typename T >\n",
    "class Stack\n",
    "{\n",
    "public:\n",
    "\tStack(int = 10); //預設建構子(Stack size 10)\n",
    "\t~Stack() //解構子\n",
    "\t{\n",
    "\t\tdelete[] stackPtr; \n",
    "\t}\n",
    "\n",
    "\t// 宣告function template\n",
    "\tbool push(const T&); // push an element onto the Stack\n",
    "\tbool pop( T& ); //pop an element off the Stack\n",
    "\n",
    "\t// 宣告如果Stack是空的話\n",
    "\tbool isEmpty() const\n",
    "\t{\n",
    "\t\treturn top == -1;\n",
    "\t}\n",
    "\t// 宣告Stack is full\n",
    "\tbool isFull() const\n",
    "\t{\n",
    "\t\treturn top == size - 1;\n",
    "\t}\n",
    "private:\n",
    "\tint size;\n",
    "\tint top;\n",
    "\tT* stackPtr;\n",
    "};\n",
    "\n",
    "// 定義class template\n",
    "// Stack 建構子模板\n",
    "template < typename T >\n",
    "Stack < T >::Stack(int s) \n",
    "\t: // 初始化size top stackPtr\n",
    "\tsize(s > 0 ? s : 10),\n",
    "\ttop(-1),\n",
    "\tstackPtr(new T[size])\n",
    "{\n",
    "\t// empty body\n",
    "}\n",
    "\n",
    "// function template push\n",
    "template <typename T >\n",
    "bool Stack<T>::push(const T& pushValue)\n",
    "{\n",
    "\tif (!isFull())\n",
    "\t{\n",
    "\t\tstackPtr[++top] = pushValue; //place item on stack\n",
    "\t\treturn true; // push successful\n",
    "\t}\n",
    "\treturn false; // push unsuccessful\n",
    "}\n",
    "\n",
    "template <typename T>\n",
    "bool Stack<T>::pop(T& popValue)\n",
    "{\n",
    "\tif (!isEmpty())\n",
    "\t{\n",
    "\t\tpopValue = stackPtr[top--]; //remove item from Stack\n",
    "\t\treturn true;\n",
    "\t}\n",
    "\treturn false;\n",
    "}\n",
    "\n",
    "#endif // !STACK_H"
   ]
  },
  {
   "cell_type": "code",
   "execution_count": null,
   "metadata": {},
   "outputs": [],
   "source": [
    "// Source.cpp\n",
    "#include <iostream>\n",
    "#include \"Stack.h\"\n",
    "using namespace std;\n",
    "int main(){\n",
    "\tStack<double> doubleStack(5);//size = 5\n",
    "\tdouble doubleValue = 1.1;\n",
    "\tcout << \"Pushing elements from doubleStack\\n\";\n",
    "\t// push 5 doubles onto doubleStack\n",
    "\twhile (doubleStack.push(doubleValue))\n",
    "\t{\n",
    "\t\tcout << doubleValue << ' ';\n",
    "\t\tdoubleValue += 1.1;\n",
    "\t}\n",
    "\tcout << \"\\nStack is full. Cannot push\" << doubleValue\n",
    "\t\t<< \"\\n\\nPopping elements from foubleStack\\n\";\n",
    "\t// pop elements from doubleStack\n",
    "\twhile (doubleStack.pop(doubleValue))\n",
    "\t\tcout << doubleValue << ' ';\n",
    "\tcout << \"\\nStack is empty. Cannot pop\\n\";\n",
    "}"
   ]
  },
  {
   "attachments": {
    "image.png": {
     "image/png": "[encoded data removed]"
    }
   },
   "cell_type": "markdown",
   "metadata": {},
   "source": [
    "![image.png](attachment:image.png)"
   ]
  },
  {
   "cell_type": "markdown",
   "metadata": {},
   "source": [
    "## & reference應用"
   ]
  },
  {
   "cell_type": "markdown",
   "metadata": {},
   "source": [
    "### function中的&參數 用途"
   ]
  },
  {
   "cell_type": "code",
   "execution_count": null,
   "metadata": {},
   "outputs": [],
   "source": [
    "#include <iostream>\n",
    "using namespace std;\n",
    "\n",
    "int increment(int& n) {  //有&\n",
    "    n = n + 1;\n",
    "    return n;\n",
    "}\n",
    "\n",
    "int main() {\n",
    "    int x = 10;\n",
    "    cout << increment(x) << endl;\n",
    "    cout << x << endl;\n",
    "    return 0;\n",
    "}"
   ]
  },
  {
   "cell_type": "raw",
   "metadata": {},
   "source": [
    "11\n",
    "11"
   ]
  },
  {
   "cell_type": "code",
   "execution_count": null,
   "metadata": {},
   "outputs": [],
   "source": [
    "#include <iostream>\n",
    "using namespace std;\n",
    "\n",
    "int increment(int n) {  //沒有&\n",
    "    n = n + 1;\n",
    "    return n;\n",
    "}\n",
    "\n",
    "int main() {\n",
    "    int x = 10;\n",
    "    cout << increment(x) << endl;\n",
    "    cout << x << endl;\n",
    "    return 0;\n",
    "}"
   ]
  },
  {
   "cell_type": "raw",
   "metadata": {},
   "source": [
    "11\n",
    "10"
   ]
  }
 ],
 "metadata": {
  "kernelspec": {
   "display_name": "Python 3",
   "language": "python",
   "name": "python3"
  },
  "language_info": {
   "codemirror_mode": {
    "name": "ipython",
    "version": 3
   },
   "file_extension": ".py",
   "mimetype": "text/x-python",
   "name": "python",
   "nbconvert_exporter": "python",
   "pygments_lexer": "ipython3",
   "version": "3.7.3"
  },
  "toc": {
   "base_numbering": 1,
   "nav_menu": {},
   "number_sections": true,
   "sideBar": true,
   "skip_h1_title": false,
   "title_cell": "Table of Contents",
   "title_sidebar": "Contents",
   "toc_cell": false,
   "toc_position": {},
   "toc_section_display": true,
   "toc_window_display": true
  }
 },
 "nbformat": 4,
 "nbformat_minor": 4
}
